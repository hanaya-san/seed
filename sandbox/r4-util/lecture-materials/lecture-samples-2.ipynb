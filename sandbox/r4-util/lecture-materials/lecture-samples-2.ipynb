{
 "cells": [
  {
   "cell_type": "markdown",
   "id": "affiliated-nashville",
   "metadata": {},
   "source": [
    "# データサイエンス(Python)勉強会用 2021/07/30 (金)\n",
    "## 必要なライブラリのインストール"
   ]
  },
  {
   "cell_type": "code",
   "execution_count": null,
   "id": "respected-isolation",
   "metadata": {},
   "outputs": [],
   "source": [
    "!pip3 install seaborn"
   ]
  },
  {
   "cell_type": "markdown",
   "id": "statewide-foster",
   "metadata": {},
   "source": [
    "## 使用するライブラリのインポート"
   ]
  },
  {
   "cell_type": "code",
   "execution_count": null,
   "id": "portuguese-niagara",
   "metadata": {},
   "outputs": [],
   "source": [
    "import numpy as np\n",
    "import pandas as pd\n",
    "import matplotlib.pyplot as plt\n",
    "from sklearn.cluster import KMeans\n",
    "from sklearn.datasets import load_iris\n",
    "from sklearn import svm\n",
    "from sklearn.metrics import confusion_matrix\n",
    "import seaborn as sns"
   ]
  },
  {
   "cell_type": "markdown",
   "id": "lightweight-perry",
   "metadata": {},
   "source": [
    "## データの傾向を確認"
   ]
  },
  {
   "cell_type": "code",
   "execution_count": null,
   "id": "former-hypothetical",
   "metadata": {},
   "outputs": [],
   "source": [
    "ds = load_iris()\n",
    "name_map = {i:j for i, j in enumerate(ds['target_names'])}\n",
    "\n",
    "iris_df = pd.DataFrame(ds.data,columns=ds.feature_names)\n",
    "iris_df['target'] = ds['target']\n",
    "iris_df['target_names'] = iris_df['target'].map(lambda x: name_map[x])\n",
    "iris_df.head(5)"
   ]
  },
  {
   "cell_type": "code",
   "execution_count": null,
   "id": "quick-monitor",
   "metadata": {},
   "outputs": [],
   "source": [
    "iris_df.describe()"
   ]
  },
  {
   "cell_type": "markdown",
   "id": "sorted-yield",
   "metadata": {},
   "source": [
    "## irisデータをペアプロット"
   ]
  },
  {
   "cell_type": "code",
   "execution_count": null,
   "id": "legendary-wonder",
   "metadata": {},
   "outputs": [],
   "source": [
    "sns.pairplot(iris_df, hue=\"target\")"
   ]
  },
  {
   "cell_type": "code",
   "execution_count": null,
   "id": "loving-aviation",
   "metadata": {},
   "outputs": [],
   "source": []
  },
  {
   "cell_type": "code",
   "execution_count": null,
   "id": "crucial-agency",
   "metadata": {},
   "outputs": [],
   "source": [
    "\"\"\"\n",
    "ds.data\n",
    "0: sepal length (cm) ガクの長さ\n",
    "1: sepal width (cm) ガクの幅\n",
    "2: petal length (cm) 花弁の長さ\n",
    "3: petal width (cm) 花弁の幅\n",
    "\"\"\"\n",
    "\n",
    "X = ds.data[:, [0, 2]]\n",
    "y = ds.target\n",
    "\n",
    "h = 0.02  # step size in the mesh\n",
    "x_min, x_max = X[:, 0].min() - 0.5, X[:, 0].max() + 0.5\n",
    "y_min, y_max = X[:, 1].min() - 0.5, X[:, 1].max() + 0.5\n",
    "xx, yy = np.meshgrid(np.arange(x_min, x_max, h), np.arange(y_min, y_max, h))\n",
    "\n",
    "def decision_boundary(clf, X, y, ax, title):\n",
    "    clf.fit(X, y)\n",
    " \n",
    "    Z = clf.predict(np.c_[xx.ravel(), yy.ravel()])\n",
    "    Z = Z.reshape(xx.shape)\n",
    "    ax.pcolormesh(xx, yy, Z, cmap=plt.cm.Paired)\n",
    "    ax.scatter(X[:, 0], X[:, 1], c=y, edgecolors='k', cmap=plt.cm.Paired)\n",
    "\n",
    "    ax.set_title(title)\n",
    "    ax.set_xlabel('sepal length')\n",
    "    ax.set_ylabel('petal length')"
   ]
  },
  {
   "cell_type": "markdown",
   "id": "frequent-lambda",
   "metadata": {},
   "source": [
    "## k近傍法を適用する\n",
    "\n",
    "#### k = x\n",
    "#### xの値を変更して、実行した結果を見てみましょう。"
   ]
  },
  {
   "cell_type": "code",
   "execution_count": null,
   "id": "multiple-trailer",
   "metadata": {},
   "outputs": [],
   "source": [
    "from sklearn.neighbors import KNeighborsClassifier\n",
    "\n",
    "k = 100\n",
    "\n",
    "fig, axes = plt.subplots(1, 1, figsize=(10, 10))\n",
    "\n",
    "title = \"%s neighbor(s)\"% (k)\n",
    "clf = KNeighborsClassifier(n_neighbors=k)\n",
    "decision_boundary(clf, X, y, axes, title)"
   ]
  },
  {
   "cell_type": "markdown",
   "id": "potential-switzerland",
   "metadata": {},
   "source": [
    "## 線形SVMを適用\n",
    "\n",
    "#### C = x\n",
    "#### x の値を変更して、実行した結果を見てみましょう。"
   ]
  },
  {
   "cell_type": "code",
   "execution_count": null,
   "id": "artistic-internet",
   "metadata": {},
   "outputs": [],
   "source": [
    "from sklearn.svm import LinearSVC\n",
    "\n",
    "# 0.01 〜 100 の範囲で変更\n",
    "C = 0.01\n",
    "\n",
    "fig, axes = plt.subplots(1, 1, figsize=(10, 10))\n",
    "\n",
    "title = \"C=%s\"% (C)\n",
    "clf = LinearSVC(C=C)\n",
    "decision_boundary(clf, X, y, axes, title)"
   ]
  },
  {
   "cell_type": "code",
   "execution_count": null,
   "id": "employed-tomorrow",
   "metadata": {},
   "outputs": [],
   "source": [
    "iris_arr = np.array([iris_df[\"sepal length (cm)\"].tolist(),\n",
    "                    iris_df['sepal width (cm)'].tolist(),\n",
    "                    iris_df['petal length (cm)'].tolist(),\n",
    "                    iris_df['petal width (cm)'].tolist()])\n",
    "iris_arr = iris_arr.T\n",
    "iris_arr"
   ]
  },
  {
   "cell_type": "markdown",
   "id": "moving-renewal",
   "metadata": {},
   "source": [
    "## k-meansの適用"
   ]
  },
  {
   "cell_type": "code",
   "execution_count": null,
   "id": "saved-assignment",
   "metadata": {},
   "outputs": [],
   "source": [
    "clusters=3\n",
    "\n",
    "pred = KMeans(n_clusters=clusters).fit_predict(iris_arr)\n",
    "iris_df['cluster_id']=pred\n",
    "pred # 予測値を出力"
   ]
  },
  {
   "cell_type": "code",
   "execution_count": null,
   "id": "academic-regular",
   "metadata": {},
   "outputs": [],
   "source": [
    "iris_df['cluster_id'].value_counts()"
   ]
  },
  {
   "cell_type": "code",
   "execution_count": null,
   "id": "verified-western",
   "metadata": {},
   "outputs": [],
   "source": [
    "cluster_ids = sorted(iris_df['cluster_id'].unique())\n",
    "\n",
    "sepal_len = 'sepal length (cm)'\n",
    "sepal_wid = 'sepal width (cm)'\n",
    "petal_len = 'petal length (cm)'\n",
    "petal_wid = 'petal width (cm)'\n",
    "\n",
    "fig = plt.figure(figsize=(12, 12))\n",
    "ax1 = fig.add_subplot(2, 2, 1)\n",
    "ax2 = fig.add_subplot(2, 2, 2)\n",
    "ax3 = fig.add_subplot(2, 2, 3)\n",
    "ax4 = fig.add_subplot(2, 2, 4)\n",
    "for i in cluster_ids:\n",
    "    ax1.set_title('x = {0} : y = {1}'.format(sepal_len, sepal_wid), loc='center')\n",
    "    ax1.scatter(iris_df[iris_df['cluster_id']==i][sepal_len].values, iris_df[iris_df['cluster_id']==i][sepal_wid])\n",
    "    \n",
    "    ax2.set_title('x = {0} : y = {1}'.format(petal_len, petal_wid), loc='center')\n",
    "    ax2.scatter(iris_df[iris_df['cluster_id']==i][petal_len].values, iris_df[iris_df['cluster_id']==i][petal_wid])\n",
    "\n",
    "    ax3.set_title('x = {0} : y = {1}'.format(sepal_len, petal_len), loc='center')\n",
    "    ax3.scatter(iris_df[iris_df['cluster_id']==i][sepal_len].values, iris_df[iris_df['cluster_id']==i][petal_len])\n",
    "\n",
    "    ax4.set_title('x = {0} : y = {1}'.format(sepal_wid, petal_wid), loc='center')\n",
    "    ax4.scatter(iris_df[iris_df['cluster_id']==i][sepal_wid].values, iris_df[iris_df['cluster_id']==i][petal_wid])\n",
    "plt.show()"
   ]
  },
  {
   "cell_type": "code",
   "execution_count": null,
   "id": "configured-turner",
   "metadata": {},
   "outputs": [],
   "source": [
    "from mpl_toolkits.mplot3d import Axes3D\n",
    "\n",
    "fig = plt.figure()\n",
    "ax = Axes3D(fig)\n",
    "\n",
    "for i in cluster_ids:\n",
    "    X = iris_df[iris_df['cluster_id']==i]['sepal length (cm)'].values\n",
    "    Y = iris_df[iris_df['cluster_id']==i]['petal length (cm)'].values\n",
    "    Z = iris_df[iris_df['cluster_id']==i]['petal width (cm)'].values\n",
    "\n",
    "    # X軸,Y軸,Z軸にそれぞれラベルを設定\n",
    "    ax.set_xlabel(\"sepal length (cm)\")\n",
    "    ax.set_ylabel(\"petal length (cm)\")\n",
    "    ax.set_zlabel(\"petal width (cm)\")\n",
    "\n",
    "    ax.plot(X, Y, Z, marker=\"o\", linestyle='None')\n",
    "\n",
    "plt.show()"
   ]
  },
  {
   "cell_type": "code",
   "execution_count": null,
   "id": "dutch-thinking",
   "metadata": {},
   "outputs": [],
   "source": []
  }
 ],
 "metadata": {
  "kernelspec": {
   "display_name": "Python 3",
   "language": "python",
   "name": "python3"
  },
  "language_info": {
   "codemirror_mode": {
    "name": "ipython",
    "version": 3
   },
   "file_extension": ".py",
   "mimetype": "text/x-python",
   "name": "python",
   "nbconvert_exporter": "python",
   "pygments_lexer": "ipython3",
   "version": "3.9.5"
  }
 },
 "nbformat": 4,
 "nbformat_minor": 5
}
