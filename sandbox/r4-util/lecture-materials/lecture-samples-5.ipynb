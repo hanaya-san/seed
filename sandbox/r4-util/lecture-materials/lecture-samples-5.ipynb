{
 "cells": [
  {
   "cell_type": "markdown",
   "id": "interesting-medication",
   "metadata": {},
   "source": [
    "# データサイエンス(Python)勉強会用 2022/01/21 (金)"
   ]
  },
  {
   "cell_type": "markdown",
   "id": "indie-trinity",
   "metadata": {},
   "source": [
    "### CIFAR-10データセット\n",
    "<概要><br>\n",
    "10種類の画像が60000枚(トレーニングデータ50000枚、テストデータ10000枚)入ったデータセット。<br>\n",
    "(縦[32] x 横[32] x 色[3: RGB])<br>\n",
    "\n",
    "◆種類<br>\n",
    "0: 飛行機<br>\n",
    "1: 自動車<br>\n",
    "2: 鳥<br>\n",
    "3: ネコ<br>\n",
    "4: 鹿<br>\n",
    "5: イヌ<br>\n",
    "6: カエル<br>\n",
    "7: 馬<br>\n",
    "8: 船<br>\n",
    "9: トラック"
   ]
  },
  {
   "cell_type": "markdown",
   "id": "fifty-czech",
   "metadata": {},
   "source": [
    "### 使用するモジュールを読み込み"
   ]
  },
  {
   "cell_type": "code",
   "execution_count": null,
   "id": "saved-expense",
   "metadata": {},
   "outputs": [],
   "source": [
    "import keras\n",
    "from keras.datasets import cifar10\n",
    "from keras.models import Sequential\n",
    "from keras.layers.convolutional import Conv2D, MaxPooling2D\n",
    "from keras.layers.core import Dense, Dropout, Activation, Flatten\n",
    "import numpy as np\n",
    "import matplotlib.pyplot as plt\n",
    "\n",
    "from tensorflow.keras.utils import to_categorical\n",
    "from tensorflow.keras.utils import plot_model"
   ]
  },
  {
   "cell_type": "markdown",
   "id": "worthy-quantity",
   "metadata": {},
   "source": [
    "### CIFAR-10データセットを読み込み\n",
    "各種データの中身を出力して確認する。"
   ]
  },
  {
   "cell_type": "code",
   "execution_count": null,
   "id": "honest-residence",
   "metadata": {},
   "outputs": [],
   "source": [
    "(X_train, Y_train), (X_test, Y_test) = cifar10.load_data()\n",
    "\n",
    "# X_Train: 学習用画像データ (枚数[50,000] x 縦[32] x 横[32] x 色[3: RGB])\n",
    "print('X_Train: {0}'.format(X_train.shape))\n",
    "\n",
    "# Y_Train: 学習用データ正解ラベル (枚数[50,000] x 分類の答え[1: 0〜9までの10分類])\n",
    "print('Y_Train: {0}'.format(Y_train.shape))\n",
    "\n",
    "# X_Train: テスト用画像データ (枚数[10,000] x 縦[32] x 横[32] x 色[3: RGB])\n",
    "print('X_Test: {0}'.format(X_test.shape))\n",
    "\n",
    "# Y_Train: テスト用データ正解ラベル (枚数[10,000] x 分類の答え[1: 0〜9までの10分類])\n",
    "print('Y_Test: {0}'.format(Y_test.shape))\n",
    "\n",
    "# 画像データ形式の確認\n",
    "print('X_Train: {0}'.format(X_train[0]))\n",
    "\n",
    "# 正解ラベルデータ形式の確認\n",
    "print('Y_Train: {0}'.format(Y_train[:10]))"
   ]
  },
  {
   "cell_type": "markdown",
   "id": "southern-owner",
   "metadata": {},
   "source": [
    "### 画像データの表示\n",
    "一部を画像として出力する"
   ]
  },
  {
   "cell_type": "code",
   "execution_count": null,
   "id": "dressed-worst",
   "metadata": {},
   "outputs": [],
   "source": [
    "# 32 x 32 x 3 のデータ\n",
    "for i in range(5):\n",
    "    plt.imshow(X_train[i])\n",
    "    plt.show()"
   ]
  },
  {
   "cell_type": "markdown",
   "id": "corrected-curtis",
   "metadata": {},
   "source": [
    "### 画像データのRGB値(0〜255)を0〜1の範囲に収まるように正規化する"
   ]
  },
  {
   "cell_type": "code",
   "execution_count": null,
   "id": "modular-petersburg",
   "metadata": {},
   "outputs": [],
   "source": [
    "# 画像データ(学習用、テスト用どちらも) 特徴量の正規化\n",
    "X_train = X_train/255.0\n",
    "X_test = X_test/255.0\n",
    "\n",
    "X_train[0]"
   ]
  },
  {
   "cell_type": "markdown",
   "id": "handed-theorem",
   "metadata": {},
   "source": [
    "### 正解ラベルデータの形式を変換\n",
    "例)<br>\n",
    "1　→ [0, 1, 0, 0, 0, 0, 0, 0, 0, 0]<br>\n",
    "5　→ [0, 0, 0, 0, 0, 1, 0, 0, 0, 0]"
   ]
  },
  {
   "cell_type": "code",
   "execution_count": null,
   "id": "thermal-complex",
   "metadata": {},
   "outputs": [],
   "source": [
    "# クラスラベルの1-hotベクトル化\n",
    "Y_train = to_categorical(Y_train, 10)\n",
    "Y_test = to_categorical(Y_test, 10)\n",
    "\n",
    "Y_train[:10]"
   ]
  },
  {
   "cell_type": "code",
   "execution_count": null,
   "id": "recorded-rings",
   "metadata": {},
   "outputs": [],
   "source": [
    "# CNNの構築\n",
    "\n",
    "# Epochs\n",
    "epochs = 10\n",
    "\n",
    "# Sequential = 直列構造のモデルを構築、addで層を追加していく。\n",
    "model = Sequential()\n",
    "\n",
    "# 畳み込み層を追加(32種類の3x3フィルタを作成・適用、same=ゼロパディング法を適用。(valid=次元削減の畳み込み))\n",
    "model.add(Conv2D(32, (3, 3), padding='same',input_shape=X_train.shape[1:]))\n",
    "# relu関数を適用し、負の値は0に変換\n",
    "model.add(Activation('relu'))\n",
    "\n",
    "# 畳み込み層を追加(32種類の3x3フィルタを作成・適用、valid=次元削減の畳み込みを適用。)\n",
    "model.add(Conv2D(32, (3, 3)))\n",
    "model.add(Activation('relu'))\n",
    "\n",
    "# 2x2フィルタでMaxPooling法を適用\n",
    "model.add(MaxPooling2D(pool_size=(2, 2)))\n",
    "model.add(Dropout(0.25))\n",
    "\n",
    "# 畳み込み層を追加(64種類の3x3フィルタを作成・適用、same=ゼロパディング法を適用。(valid=次元削減の畳み込み))\n",
    "model.add(Conv2D(64, (3, 3), padding='same'))\n",
    "model.add(Activation('relu'))\n",
    "\n",
    "# 畳み込み層を追加(64種類の3x3フィルタを作成・適用、valid=次元削減の畳み込みを適用。)\n",
    "model.add(Conv2D(64, (3, 3)))\n",
    "model.add(Activation('relu'))\n",
    "\n",
    "# 畳み込み層を追加(64種類の3x3フィルタを作成・適用、same=ゼロパディング法を適用。(valid=次元削減の畳み込み))\n",
    "model.add(MaxPooling2D(pool_size=(2, 2)))\n",
    "model.add(Dropout(0.25))\n",
    " \n",
    "# 1次元のデータに変換\n",
    "model.add(Flatten())\n",
    "\n",
    "# 隠れ層(512)を追加\n",
    "model.add(Dense(512))\n",
    "model.add(Activation('relu'))\n",
    "model.add(Dropout(0.5))\n",
    "\n",
    "# 出力層を追加\n",
    "model.add(Dense(10))\n",
    "model.add(Activation('softmax'))\n",
    " \n",
    "# 予測モデルをコンパイル(損失関数=交差エントロピー誤差、オプティマイザ=SGD、評価関数=accuracy)\n",
    "# オプティマイザ：学習による重みの更新\n",
    "model.compile(loss='categorical_crossentropy',optimizer='SGD',metrics=['accuracy'])\n",
    " \n",
    "#訓練(epochs=世代数)\n",
    "history = model.fit(X_train, Y_train, epochs=epochs)"
   ]
  },
  {
   "cell_type": "markdown",
   "id": "thirty-programming",
   "metadata": {},
   "source": [
    "### 予測モデルの評価を結果出力する"
   ]
  },
  {
   "cell_type": "code",
   "execution_count": null,
   "id": "revolutionary-modern",
   "metadata": {},
   "outputs": [],
   "source": [
    "#評価 & 評価結果出力\n",
    "print(model.evaluate(X_test, Y_test))"
   ]
  },
  {
   "cell_type": "markdown",
   "id": "patent-report",
   "metadata": {},
   "source": [
    "### 今回作成したCNNモデルを可視化する"
   ]
  },
  {
   "cell_type": "code",
   "execution_count": null,
   "id": "obvious-aaron",
   "metadata": {},
   "outputs": [],
   "source": [
    "#作成した予測モデルの図示化\n",
    "plot_model(model, to_file='model.png',show_shapes=True)"
   ]
  },
  {
   "cell_type": "markdown",
   "id": "automatic-training",
   "metadata": {},
   "source": [
    "### 世代毎の学習の過程を表示"
   ]
  },
  {
   "cell_type": "code",
   "execution_count": null,
   "id": "narrative-forth",
   "metadata": {},
   "outputs": [],
   "source": [
    "plt.figure(figsize=(10, 8))\n",
    "plt.plot(range(1, epochs+1), history.history['accuracy'], label=\"accuracy\")\n",
    "plt.plot(range(1, epochs+1), history.history['loss'], label=\"loss\")\n",
    "plt.xlabel('Epochs')\n",
    "plt.ylabel('Accuracy')\n",
    "plt.legend()\n",
    "plt.show()"
   ]
  }
 ],
 "metadata": {
  "kernelspec": {
   "display_name": "Python 3",
   "language": "python",
   "name": "python3"
  },
  "language_info": {
   "codemirror_mode": {
    "name": "ipython",
    "version": 3
   },
   "file_extension": ".py",
   "mimetype": "text/x-python",
   "name": "python",
   "nbconvert_exporter": "python",
   "pygments_lexer": "ipython3",
   "version": "3.9.8"
  }
 },
 "nbformat": 4,
 "nbformat_minor": 5
}
