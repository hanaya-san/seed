{
 "cells": [
  {
   "cell_type": "markdown",
   "id": "through-sellers",
   "metadata": {},
   "source": [
    "# データサイエンス(Python)勉強会用 2021/12/03 (金)"
   ]
  },
  {
   "cell_type": "markdown",
   "id": "available-pathology",
   "metadata": {},
   "source": [
    "### k-meansという手法をPythonで実装しながらアルゴリズムを理解する。\n",
    "k-means(k平均法)は教師なし学習の中でもとても有名なアルゴリズムの一つです。<br>\n",
    "例えば、顧客のデータから顧客を購買傾向によってグループ分けしたり、<br>\n",
    "商品の特性からいくつかのグループに分けたりと使用法は様々です。"
   ]
  },
  {
   "cell_type": "markdown",
   "id": "subject-burton",
   "metadata": {},
   "source": [
    "- 使用するライブラリをimport\n",
    "- グラフ描画する際のカラーコードを指定"
   ]
  },
  {
   "cell_type": "code",
   "execution_count": null,
   "id": "modular-turkish",
   "metadata": {},
   "outputs": [],
   "source": [
    "import numpy as np\n",
    "import matplotlib.pyplot as plt\n",
    "\n",
    "colorlist = [\n",
    "    '#E41A1C',\n",
    "    '#377EB8',\n",
    "    '#4DAF4A',\n",
    "    '#984EA3',\n",
    "    '#FF7F00',\n",
    "    '#FFFF33',\n",
    "    '#A65628',\n",
    "    '#F781BF',\n",
    "    '#FF2277',\n",
    "    '#6666FF'\n",
    "]\n",
    "\n",
    "fig = plt.figure()\n",
    "fig.patch.set_facecolor('white')\n",
    "\n",
    "x = np.arange(1, len(colorlist)+1)\n",
    "height = [1]*len(colorlist)\n",
    "plt.barh(x, height, color=colorlist, tick_label=colorlist, align=\"center\")\n",
    "plt.show()"
   ]
  },
  {
   "cell_type": "markdown",
   "id": "residential-angola",
   "metadata": {},
   "source": [
    "### ランダムで数値(x, y)の生成\n",
    "- -100〜100の間でランダムに整数を生成し、要素数100件分、2次元配列(x, y)を生成する。\n",
    "- 生成した値を(x, y)座標上に散布図プロットする。"
   ]
  },
  {
   "cell_type": "code",
   "execution_count": null,
   "id": "absent-advantage",
   "metadata": {},
   "outputs": [],
   "source": [
    "#<< データの生成 >>\n",
    "np.random.seed(10) # 乱数生成時のシードを固定\n",
    "x = np.random.randint(-100, 100, 100) # -100 〜 100 までの 100件の整数を乱数生成\n",
    "y = np.random.randint(-100, 100, 100) # -100 〜 100 までの 100件の整数を乱数生成\n",
    "xy = np.c_[x, y] # 多次元配列の結合\n",
    "\n",
    "#<< 可視化 >>\n",
    "plt.figure(figsize=(8, 8)) #グラフの描画領域サイズを指定する\n",
    "plt.scatter(xy[:,0], xy[:,1], c=\"k\", s=10, alpha=0.5) # ランダムで生成した値を散布図プロットする。\n",
    "plt.xlim(-110, 110) #グラフの描画範囲を指定 (x軸の表示範囲)\n",
    "plt.ylim(-110, 110) #グラフの描画範囲を指定 (y軸の表示範囲)\n",
    "plt.grid(linestyle='dotted') #グリッド線を描画(dotted=点線)\n",
    "plt.show()"
   ]
  },
  {
   "cell_type": "markdown",
   "id": "adolescent-belize",
   "metadata": {},
   "source": [
    "## k-meansの実装\n",
    "- 分割するグループ数(K)を決める\n",
    "- ランダムに(K)個、点を生成して、中心座標T1~T4にする"
   ]
  },
  {
   "cell_type": "code",
   "execution_count": null,
   "id": "lined-honey",
   "metadata": {},
   "outputs": [],
   "source": [
    "#<< データの生成 >>\n",
    "np.random.seed(10)\n",
    "x = np.random.randint(-100, 100, 100)\n",
    "y = np.random.randint(-100, 100, 100)\n",
    "xy = np.c_[x, y]\n",
    "\n",
    "#----(追加)\n",
    "K = 3 # (2 - 10までの値を指定する)\n",
    "centers = np.random.randint(-100, 100, (K, 2)) # -100 〜 100までの数値を用いて K件の2次元配列を生成\n",
    "\n",
    "#<< 可視化 >>\n",
    "plt.figure(figsize=(8, 8))\n",
    "plt.scatter(xy[:,0], xy[:,1], c=\"k\", s=10, alpha=0.5)\n",
    "#----(追加)\n",
    "plt.scatter(centers[:,0], centers[:,1], s=70, color=colorlist[0:K]) # k-meansによるグループ分けの初期地点を指定\n",
    "plt.xlim(-110, 110)\n",
    "plt.ylim(-110, 110)\n",
    "plt.grid(linestyle='dotted')\n",
    "plt.show()"
   ]
  },
  {
   "cell_type": "markdown",
   "id": "brutal-membrane",
   "metadata": {},
   "source": [
    "### k-meansによるグループ分け\n",
    "- 全ての点に対して、最も近い中心座標Tのグループラベルを付けて色分けを行う\n",
    "- (x, y)座標軸の中で、最も近い座標を求める際にはユークリッド距離を用いる。"
   ]
  },
  {
   "cell_type": "code",
   "execution_count": null,
   "id": "affecting-yemen",
   "metadata": {},
   "outputs": [],
   "source": [
    "#<< データの生成 >>\n",
    "np.random.seed(10)\n",
    "x = np.random.randint(-100, 100, 100)\n",
    "y = np.random.randint(-100, 100, 100)\n",
    "xy = np.c_[x, y]\n",
    "\n",
    "# (2 - 10までの値を指定する)\n",
    "K = 3\n",
    "centers = np.random.randint(-100, 100, (K, 2))\n",
    "\n",
    "#----(追加)\n",
    "idx = np.zeros(xy.shape[0]) #Xのサンプル数だけ空のラベルを作る\n",
    "\n",
    "#距離の二乗が一番近い中心点のインデックスを返す。\n",
    "for i in range(xy.shape[0]):\n",
    "    idx[i] = np.argmin(np.sum((xy[i,:] - centers)**2, axis=1))\n",
    "\n",
    "#<< 可視化 >>\n",
    "plt.figure(figsize=(8, 8))\n",
    "for i in np.arange(K):\n",
    "    plt.scatter(xy[idx==i,0], xy[idx==i,1], c=colorlist[i], s=10)\n",
    "    plt.scatter(centers[i,0], centers[i,1], s=70, c=colorlist[i])\n",
    "plt.xlim(-110, 110)\n",
    "plt.ylim(-110, 110)\n",
    "plt.grid(linestyle='dotted')\n",
    "plt.show()"
   ]
  },
  {
   "cell_type": "markdown",
   "id": "greatest-choice",
   "metadata": {},
   "source": [
    "### それぞれのグループ毎に、新しい中心点を求める\n",
    "- グループ内の座標の平均値を求めて、その座標を新たな中心点とする。\n",
    "- 中心点を新たな中心点へ移動させる。"
   ]
  },
  {
   "cell_type": "code",
   "execution_count": null,
   "id": "vietnamese-travel",
   "metadata": {},
   "outputs": [],
   "source": [
    "#<< データの生成 >>\n",
    "np.random.seed(5)\n",
    "x = np.random.randint(-100, 100, 100)\n",
    "y = np.random.randint(-100, 100, 100)\n",
    "xy = np.c_[x, y]\n",
    "\n",
    "# (2 - 10までの値を指定する)\n",
    "K = 4\n",
    "centers = np.random.randint(-100, 100, (K, 2))\n",
    "\n",
    "idx = np.zeros(xy.shape[0])\n",
    "\n",
    "#距離の二乗が一番近い中心点のインデックスを返す。\n",
    "for k in range(xy.shape[0]):\n",
    "    idx[k] = np.argmin(np.sum((xy[k,:] - centers)**2, axis=1))\n",
    "\n",
    "#<< 可視化 Before >>\n",
    "plt.figure(figsize=(17, 5))\n",
    "plt.subplot(1, 3, 1)\n",
    "for k in np.arange(K):\n",
    "    plt.scatter(xy[idx==k,0], xy[idx==k,1], c=colorlist[k], s=10)\n",
    "    plt.scatter(centers[k,0], centers[k,1], s=70, c=colorlist[k])\n",
    "plt.title('Before')\n",
    "plt.xlim(-110, 110)\n",
    "plt.ylim(-110, 110)\n",
    "plt.grid(linestyle='dotted')\n",
    "\n",
    "#<< 可視化 After 1 >>\n",
    "#グループ中心点の移動\n",
    "for k in range(K):\n",
    "    centers[k,:] = xy[idx==k,:].mean(axis=0)\n",
    "    \n",
    "plt.subplot(1, 3, 2)\n",
    "for k in np.arange(K):\n",
    "    plt.scatter(xy[idx==k,0], xy[idx==k,1], c=colorlist[k], s=10)\n",
    "    plt.scatter(centers[k,0], centers[k,1], s=70, c=colorlist[k])\n",
    "plt.title('After 1')\n",
    "plt.xlim(-110, 110)\n",
    "plt.ylim(-110, 110)\n",
    "plt.grid(linestyle='dotted')\n",
    "\n",
    "#<< 可視化 After 2 >>\n",
    "#距離の二乗が一番近い中心点のインデックスを返す。\n",
    "for k in range(xy.shape[0]):\n",
    "    idx[k] = np.argmin(np.sum((xy[k,:] - centers)**2, axis=1))\n",
    "\n",
    "plt.subplot(1, 3, 3)\n",
    "for k in np.arange(K):\n",
    "    plt.scatter(xy[idx==k,0], xy[idx==k,1], c=colorlist[k], s=10)\n",
    "    plt.scatter(centers[k,0], centers[k,1], s=70, c=colorlist[k])\n",
    "plt.title('After 2')\n",
    "plt.xlim(-110, 110)\n",
    "plt.ylim(-110, 110)\n",
    "plt.grid(linestyle='dotted')\n",
    "\n",
    "plt.show()"
   ]
  },
  {
   "cell_type": "markdown",
   "id": "sharing-reunion",
   "metadata": {},
   "source": [
    "## k-means法の一連の流れを可視化"
   ]
  },
  {
   "cell_type": "code",
   "execution_count": null,
   "id": "tender-structure",
   "metadata": {},
   "outputs": [],
   "source": [
    "np.random.seed(5)\n",
    "x = np.random.randint(-100, 100, 100)\n",
    "y = np.random.randint(-100, 100, 100)\n",
    "xy = np.c_[x, y]\n",
    "\n",
    "K = 4\n",
    "centers = np.random.randint(-100, 100, (K, 2))\n",
    "\n",
    "plt.figure(figsize=(17, 17))\n",
    "plt.subplot(3, 3, 1)\n",
    "for j in np.arange(0, 9):\n",
    "    for i in range(xy.shape[0]):\n",
    "        idx[i] = np.argmin(np.sum((xy[i,:] - centers)**2,axis=1))\n",
    "\n",
    "    for k in range(K):\n",
    "        centers[k,:] = xy[idx==k,:].mean(axis=0)\n",
    "\n",
    "    plt.subplot(3, 3, j+1)\n",
    "    for k in np.arange(K):\n",
    "        plt.scatter(xy[idx==k,0], xy[idx==k,1], c=colorlist[k], s=10)\n",
    "        plt.scatter(centers[k,0], centers[k,1], s=70, c=colorlist[k])\n",
    "    plt.text(x=0, y=0, s=str(j+1), size=20)\n",
    "    plt.scatter(centers[:,0], centers[:,1], c=colorlist[0:K])\n",
    "    plt.grid(linestyle='dotted')\n",
    "\n",
    "plt.show()"
   ]
  },
  {
   "cell_type": "markdown",
   "id": "national-venture",
   "metadata": {},
   "source": [
    "## scikit-learnを用いた k-meansのシンプルな実装"
   ]
  },
  {
   "cell_type": "code",
   "execution_count": null,
   "id": "reported-floating",
   "metadata": {},
   "outputs": [],
   "source": [
    "from sklearn.cluster import KMeans\n",
    "\n",
    "K=4\n",
    "\n",
    "kmeans_mod = KMeans(n_clusters=K, # クラスター数\n",
    "            init='k-means++',       # 中心の設定\n",
    "            n_init=10,               # 異なる初期値を用いたk-meansの実行回数 \n",
    "            max_iter=10,            # 最大イテレーション回数  default: '300'\n",
    "            tol=1e-04,              # 収束と判定するための相対的な許容誤差 default: '1e-04'\n",
    "            random_state=0) "
   ]
  },
  {
   "cell_type": "code",
   "execution_count": null,
   "id": "experimental-township",
   "metadata": {},
   "outputs": [],
   "source": [
    "idx = kmeans_mod.fit_predict(xy)\n",
    "plt.figure(figsize=(8, 8))\n",
    "for k in np.arange(K):\n",
    "    plt.scatter(xy[idx==k,0], xy[idx==k,1], c=colorlist[k], s=10)\n",
    "plt.grid(linestyle='dotted')\n",
    "plt.show()"
   ]
  },
  {
   "cell_type": "code",
   "execution_count": null,
   "id": "opened-sperm",
   "metadata": {},
   "outputs": [],
   "source": []
  }
 ],
 "metadata": {
  "kernelspec": {
   "display_name": "Python 3",
   "language": "python",
   "name": "python3"
  },
  "language_info": {
   "codemirror_mode": {
    "name": "ipython",
    "version": 3
   },
   "file_extension": ".py",
   "mimetype": "text/x-python",
   "name": "python",
   "nbconvert_exporter": "python",
   "pygments_lexer": "ipython3",
   "version": "3.9.8"
  }
 },
 "nbformat": 4,
 "nbformat_minor": 5
}
