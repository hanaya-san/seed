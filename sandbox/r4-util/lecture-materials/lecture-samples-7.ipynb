{
 "cells": [
  {
   "cell_type": "markdown",
   "id": "technical-county",
   "metadata": {},
   "source": [
    "# データサイエンス(Python)勉強会用 2022/03/18 (金)"
   ]
  },
  {
   "cell_type": "markdown",
   "id": "accomplished-school",
   "metadata": {},
   "source": [
    "<概要><br>\n",
    "ハイパーパラメータチューニングの説明<br>\n",
    "\n",
    "使用するデータ<br>\n",
    "Iris dataset<br>\n",
    "target：クラス番号 (0, 1, 2)<br>\n",
    "target_names：アヤメの種類(0: Sentosa, 1: Versicolor, 2: Virginica)<br>\n",
    "sepal length (cm)：萼の長さ<br>\n",
    "sepal width (cm)：萼の幅<br>\n",
    "petal length (cm)：花弁の長さ<br>\n",
    "petal width (cm)：花弁の幅"
   ]
  },
  {
   "cell_type": "code",
   "execution_count": null,
   "id": "gentle-contract",
   "metadata": {},
   "outputs": [],
   "source": [
    "!pip3 install seaborn_analyzer"
   ]
  },
  {
   "cell_type": "markdown",
   "id": "changing-lodging",
   "metadata": {},
   "source": [
    "### 使用するモジュールを読み込み"
   ]
  },
  {
   "cell_type": "code",
   "execution_count": null,
   "id": "polyphonic-september",
   "metadata": {},
   "outputs": [],
   "source": [
    "import numpy as np\n",
    "import seaborn as sns\n",
    "from seaborn_analyzer import classplot\n",
    "from sklearn.svm import SVC\n",
    "from sklearn.model_selection import KFold\n",
    "from sklearn.model_selection import cross_val_score, validation_curve\n",
    "import matplotlib.pyplot as plt\n",
    "from sklearn.model_selection import GridSearchCV\n",
    "from sklearn.model_selection import RandomizedSearchCV"
   ]
  },
  {
   "cell_type": "markdown",
   "id": "brutal-latin",
   "metadata": {},
   "source": [
    "### iris データセットを読み込み"
   ]
  },
  {
   "cell_type": "code",
   "execution_count": null,
   "id": "known-credit",
   "metadata": {},
   "outputs": [],
   "source": [
    "iris = sns.load_dataset(\"iris\")\n",
    "sns.scatterplot(x='petal_width', y='petal_length', data=iris, hue='species')"
   ]
  },
  {
   "cell_type": "markdown",
   "id": "searching-dressing",
   "metadata": {},
   "source": [
    "### SVMモデルの作成\n",
    "チューニング前のデフォルト値で学習モデルを作成して結果を可視化する。"
   ]
  },
  {
   "cell_type": "code",
   "execution_count": null,
   "id": "third-venture",
   "metadata": {},
   "outputs": [],
   "source": [
    "# モデル作成\n",
    "model = SVC()  # チューニング前のモデル(パラメータ指定しない)\n",
    "# クロスバリデーションして決定境界を可視化\n",
    "seed = 0  # 乱数シード\n",
    "cv = KFold(n_splits=3, shuffle=True, random_state=seed)  # クロスバリデーション分割指定 (3分割)\n",
    "classplot.class_separator_plot(model, ['petal_width', 'petal_length'], 'species', iris,\n",
    "                               cv=cv, display_cv_indices=[0, 1, 2])"
   ]
  },
  {
   "cell_type": "markdown",
   "id": "linear-operation",
   "metadata": {},
   "source": [
    "### 評価指標の算出\n",
    "F1-score<br>\n",
    "= (2 * (Recall * Precision)) / (Recall + Precision) "
   ]
  },
  {
   "cell_type": "code",
   "execution_count": null,
   "id": "dimensional-constitution",
   "metadata": {},
   "outputs": [],
   "source": [
    "X = iris[['petal_width', 'petal_length']].values  # 説明変数をndarray化\n",
    "y = iris['species']  # 目的変数をndarray化\n",
    "scoring = 'f1_micro'  # 評価指標をf1_microに指定\n",
    "# クロスバリデーションで評価指標算出\n",
    "scores = cross_val_score(model, X, y, cv=cv,\n",
    "                         scoring=scoring, n_jobs=-1)\n",
    "print('scores={0}'.format(scores))\n",
    "print('average_score={0}'.format(round(np.mean(scores), 4)))"
   ]
  },
  {
   "cell_type": "markdown",
   "id": "paperback-compression",
   "metadata": {},
   "source": [
    "### ハイパーパラメータの初期値を確認\n",
    "GAMMA\n",
    "「一つの訓練データが与える影響の範囲」<br>\n",
    "小さいほど境界線が滑らかに、大きいほどより細かい境界線が引かれるようになる。<br>\n",
    "<br>\n",
    "C<br>\n",
    "「誤分類の許容値」<br>\n",
    "小さいほど誤分類を許容するようになる。"
   ]
  },
  {
   "cell_type": "code",
   "execution_count": null,
   "id": "filled-period",
   "metadata": {},
   "outputs": [],
   "source": [
    "print('gamma = {0}'.format(round(1 /(X.shape[1] * X.var()), 4)))"
   ]
  },
  {
   "cell_type": "markdown",
   "id": "duplicate-exploration",
   "metadata": {},
   "source": [
    "### パラメータの種類と範囲の選択(1)\n",
    "対象： GAMMA, C<br>\n",
    "範囲: <br>\n",
    "GAMMA: 0.01 〜 10,<br>C: 0.1 〜 10"
   ]
  },
  {
   "cell_type": "code",
   "execution_count": null,
   "id": "guilty-poverty",
   "metadata": {},
   "outputs": [],
   "source": [
    "cv_params = {'gamma': [0.01, 0.03, 0.1, 0.3, 1, 3, 10],\n",
    "             'C': [0.1, 0.3, 1, 3, 10]}\n",
    "# 検証曲線のプロット（パラメータ毎にプロット）\n",
    "for i, (k, v) in enumerate(cv_params.items()):\n",
    "    train_scores, valid_scores = validation_curve(estimator=model,\n",
    "                                                  X=X, y=y,\n",
    "                                                  param_name=k,\n",
    "                                                  param_range=v,\n",
    "                                                  cv=cv, scoring=scoring,\n",
    "                                                  n_jobs=-1)\n",
    "    # 学習データに対するスコアの平均±標準偏差を算出\n",
    "    train_mean = np.mean(train_scores, axis=1)\n",
    "    train_std  = np.std(train_scores, axis=1)\n",
    "    train_center = train_mean\n",
    "    train_high = train_mean + train_std\n",
    "    train_low = train_mean - train_std\n",
    "    # テストデータに対するスコアの平均±標準偏差を算出\n",
    "    valid_mean = np.mean(valid_scores, axis=1)\n",
    "    valid_std  = np.std(valid_scores, axis=1)\n",
    "    valid_center = valid_mean\n",
    "    valid_high = valid_mean + valid_std\n",
    "    valid_low = valid_mean - valid_std\n",
    "    # training_scoresをプロット\n",
    "    plt.plot(v, train_center, color='blue', marker='o', markersize=5, label='training score')\n",
    "    plt.fill_between(v, train_high, train_low, alpha=0.15, color='blue')\n",
    "    # validation_scoresをプロット\n",
    "    plt.plot(v, valid_center, color='green', linestyle='--', marker='o', markersize=5, label='validation score')\n",
    "    plt.fill_between(v, valid_high, valid_low, alpha=0.15, color='green')\n",
    "    # スケールを'log'に（線形なパラメータは'linear'にするので注意）\n",
    "    plt.xscale('log')\n",
    "    # 軸ラベルおよび凡例の指定\n",
    "    plt.xlabel(k)  # パラメータ名を横軸ラベルに\n",
    "    plt.ylabel(scoring)  # スコア名を縦軸ラベルに\n",
    "    plt.legend(loc='lower right')  # 凡例\n",
    "    # グラフを描画\n",
    "    plt.show()"
   ]
  },
  {
   "cell_type": "markdown",
   "id": "special-notion",
   "metadata": {},
   "source": [
    "### パラメータの種類と範囲の選択(2)\n",
    "対象： GAMMA, C<br>\n",
    "範囲: <br>\n",
    "GAMMA: 0.0001 〜 1000,<br>\n",
    "C: 0.001 〜 1000<br>\n",
    "\n",
    "前回よりも範囲を広げる。"
   ]
  },
  {
   "cell_type": "code",
   "execution_count": null,
   "id": "false-conditioning",
   "metadata": {},
   "outputs": [],
   "source": [
    "cv_params = {'gamma': [0.0001, 0.001, 0.01, 0.03, 0.1, 0.3, 1, 3, 10, 100, 1000],\n",
    "             'C': [0.001, 0.01, 0.1, 0.3, 1, 3, 10, 100, 1000]}\n",
    "# 検証曲線のプロット（パラメータ毎にプロット）\n",
    "for i, (k, v) in enumerate(cv_params.items()):\n",
    "    train_scores, valid_scores = validation_curve(estimator=model,\n",
    "                                                  X=X, y=y,\n",
    "                                                  param_name=k,\n",
    "                                                  param_range=v,\n",
    "                                                  cv=cv, scoring=scoring,\n",
    "                                                  n_jobs=-1)\n",
    "    # 学習データに対するスコアの平均±標準偏差を算出\n",
    "    train_mean = np.mean(train_scores, axis=1)\n",
    "    train_std  = np.std(train_scores, axis=1)\n",
    "    train_center = train_mean\n",
    "    train_high = train_mean + train_std\n",
    "    train_low = train_mean - train_std\n",
    "    # テストデータに対するスコアの平均±標準偏差を算出\n",
    "    valid_mean = np.mean(valid_scores, axis=1)\n",
    "    valid_std  = np.std(valid_scores, axis=1)\n",
    "    valid_center = valid_mean\n",
    "    valid_high = valid_mean + valid_std\n",
    "    valid_low = valid_mean - valid_std\n",
    "    # training_scoresをプロット\n",
    "    plt.plot(v, train_center, color='blue', marker='o', markersize=5, label='training score')\n",
    "    plt.fill_between(v, train_high, train_low, alpha=0.15, color='blue')\n",
    "    # validation_scoresをプロット\n",
    "    plt.plot(v, valid_center, color='green', linestyle='--', marker='o', markersize=5, label='validation score')\n",
    "    plt.fill_between(v, valid_high, valid_low, alpha=0.15, color='green')\n",
    "    # スケールを'log'に（線形なパラメータは'linear'にするので注意）\n",
    "    plt.xscale('log')\n",
    "    # 軸ラベルおよび凡例の指定\n",
    "    plt.xlabel(k)  # パラメータ名を横軸ラベルに\n",
    "    plt.ylabel(scoring)  # スコア名を縦軸ラベルに\n",
    "    plt.legend(loc='lower right')  # 凡例\n",
    "    # グラフを描画\n",
    "    plt.show()"
   ]
  },
  {
   "cell_type": "markdown",
   "id": "molecular-georgia",
   "metadata": {},
   "source": [
    "### グリッドサーチの実装法"
   ]
  },
  {
   "cell_type": "code",
   "execution_count": null,
   "id": "athletic-possibility",
   "metadata": {},
   "outputs": [],
   "source": [
    "# 最終的なパラメータ範囲\n",
    "cv_params = {'gamma': [0.001, 0.003, 0.01, 0.03, 0.1, 0.3, 1, 3, 10, 30, 100],\n",
    "             'C': [0.01, 0.03, 0.1, 0.3, 1, 3, 10, 30, 100]}\n",
    "# グリッドサーチのインスタンス作成\n",
    "gridcv = GridSearchCV(model, cv_params, cv=cv,\n",
    "                      scoring=scoring, n_jobs=-1) # n_jobs = 並列動作する最大スレッド数\n",
    "# グリッドサーチ実行（学習実行）\n",
    "gridcv.fit(X, y)\n",
    "# 最適パラメータの表示と保持\n",
    "best_params = gridcv.best_params_\n",
    "best_score = gridcv.best_score_\n",
    "print(f'最適パラメータ {best_params}\\nスコア {best_score}')"
   ]
  },
  {
   "cell_type": "markdown",
   "id": "congressional-payroll",
   "metadata": {},
   "source": [
    "### グリッドサーチで選択したパラメータと、算出した評価指標との関係をヒートマップで表示"
   ]
  },
  {
   "cell_type": "code",
   "execution_count": null,
   "id": "rapid-coast",
   "metadata": {},
   "outputs": [],
   "source": [
    "import pandas as pd\n",
    "# パラメータと評価指標をデータフレームに格納\n",
    "param1_array = gridcv.cv_results_['param_gamma'].data.astype(np.float64)  # パラメータgamma\n",
    "param2_array = gridcv.cv_results_['param_C'].data.astype(np.float64)  # パラメータC\n",
    "mean_scores = gridcv.cv_results_['mean_test_score']  # 評価指標\n",
    "df_heat = pd.DataFrame(np.vstack([param1_array, param2_array, mean_scores]).T,\n",
    "                       columns=['gamma', 'C', 'test_score'])\n",
    "# グリッドデータをピボット化\n",
    "df_pivot = pd.pivot_table(data=df_heat, values='test_score', \n",
    "                          columns='gamma', index='C', aggfunc=np.mean)\n",
    "# 上下軸を反転（元々は上方向が小となっているため）\n",
    "df_pivot = df_pivot.iloc[::-1]\n",
    "# ヒートマップをプロット\n",
    "hm = sns.heatmap(df_pivot, cmap='YlGn', cbar_kws={'label': 'score'})"
   ]
  },
  {
   "cell_type": "markdown",
   "id": "expensive-archive",
   "metadata": {},
   "source": [
    "### ランダムサーチの実装法"
   ]
  },
  {
   "cell_type": "code",
   "execution_count": null,
   "id": "athletic-representative",
   "metadata": {},
   "outputs": [],
   "source": [
    "# パラメータの密度をグリッドサーチのときより増やす\n",
    "cv_params = {'gamma': [0.001, 0.002, 0.005, 0.01, 0.02, 0.05, 0.1, 0.2, 0.5, 1, 2, 5, 10, 20, 50, 100],\n",
    "             'C': [0.01, 0.02, 0.05, 0.1, 0.2, 0.5, 1, 2, 5, 10, 20, 50, 100]}\n",
    "# ランダムサーチのインスタンス作成\n",
    "randcv = RandomizedSearchCV(model, cv_params, cv=cv,\n",
    "                            scoring=scoring, random_state=seed,\n",
    "                            n_iter=50, n_jobs=-1)\n",
    "# ランダムサーチ実行（学習実行）\n",
    "randcv.fit(X, y)\n",
    "# 最適パラメータの表示と保持\n",
    "best_params = randcv.best_params_\n",
    "best_score = randcv.best_score_\n",
    "print(f'最適パラメータ {best_params}\\nスコア {best_score}')"
   ]
  },
  {
   "cell_type": "markdown",
   "id": "alternative-above",
   "metadata": {},
   "source": [
    "### ランダムサーチで選択したパラメータと、算出した評価指標との関係を散布図で表示"
   ]
  },
  {
   "cell_type": "code",
   "execution_count": null,
   "id": "boolean-prediction",
   "metadata": {},
   "outputs": [],
   "source": [
    "# パラメータと評価指標をndarrayに格納\n",
    "param1_array = randcv.cv_results_['param_gamma'].data.astype(np.float64)  # パラメータgamma\n",
    "param2_array = randcv.cv_results_['param_C'].data.astype(np.float64)  # パラメータC\n",
    "mean_scores = randcv.cv_results_['mean_test_score']  # 評価指標\n",
    "# 散布図プロット\n",
    "sc = plt.scatter(param1_array, param2_array, c=mean_scores,\n",
    "            cmap='YlGn', edgecolors='lightgrey')\n",
    "cbar = plt.colorbar(sc)  # カラーバー追加\n",
    "cbar.set_label('score')  # カラーバーのタイトル\n",
    "plt.xscale('log')  # 第1軸をlogスケールに\n",
    "plt.yscale('log')  # 第2軸をlogスケールに\n",
    "plt.xlim(np.amin(cv_params['gamma']), np.amax(cv_params['gamma']))  # X軸表示範囲をデータ最小値～最大値に\n",
    "plt.ylim(np.amin(cv_params['C']), np.amax(cv_params['C']))  # Y軸表示範囲をデータ最小値～最大値に\n",
    "plt.xlabel('gamma')  # X軸ラベル\n",
    "plt.ylabel('C')  # Y軸ラベル"
   ]
  },
  {
   "cell_type": "markdown",
   "id": "stone-uncle",
   "metadata": {},
   "source": [
    "### 検証曲線をプロット\n",
    "・性能の最大値を捉えられているか<br>\n",
    "・過学習していないか<br>"
   ]
  },
  {
   "cell_type": "code",
   "execution_count": null,
   "id": "angry-harmony",
   "metadata": {},
   "outputs": [],
   "source": [
    "# 検証曲線描画対象パラメータ\n",
    "valid_curve_params = {\n",
    "    'gamma': [\n",
    "              0.001, \n",
    "              0.003, \n",
    "              0.01, \n",
    "              0.03, \n",
    "              0.1, \n",
    "              0.3, \n",
    "              1, \n",
    "              3, \n",
    "              10, \n",
    "              30, \n",
    "              100\n",
    "    ],\n",
    "    'C': [\n",
    "          0.01, \n",
    "          0.03, \n",
    "          0.1, \n",
    "          0.3, \n",
    "          1, \n",
    "          3, \n",
    "          10, \n",
    "          30, \n",
    "          100\n",
    "    ]\n",
    "}\n",
    "# 最適パラメータを上記描画対象に追加\n",
    "for k, v in valid_curve_params.items():\n",
    "    if best_params[k] not in v:\n",
    "        v.append(best_params[k])\n",
    "        v.sort()\n",
    "for i, (k, v) in enumerate(valid_curve_params.items()):\n",
    "    # モデルに最適パラメータを適用\n",
    "    model.set_params(**best_params)\n",
    "    # 検証曲線を描画\n",
    "    train_scores, valid_scores = validation_curve(estimator=model,\n",
    "                                                  X=X, y=y,\n",
    "                                                  param_name=k,\n",
    "                                                  param_range=v,\n",
    "                                                  cv=cv, scoring=scoring,\n",
    "                                                  n_jobs=-1)\n",
    "    # 学習データに対するスコアの平均±標準偏差を算出\n",
    "    train_mean = np.mean(train_scores, axis=1)\n",
    "    train_std  = np.std(train_scores, axis=1)\n",
    "    train_center = train_mean\n",
    "    train_high = train_mean + train_std\n",
    "    train_low = train_mean - train_std\n",
    "    # テストデータに対するスコアの平均±標準偏差を算出\n",
    "    valid_mean = np.mean(valid_scores, axis=1)\n",
    "    valid_std  = np.std(valid_scores, axis=1)\n",
    "    valid_center = valid_mean\n",
    "    valid_high = valid_mean + valid_std\n",
    "    valid_low = valid_mean - valid_std\n",
    "    # training_scoresをプロット\n",
    "    plt.plot(v, train_center, color='blue', marker='o', markersize=5, label='training score')\n",
    "    plt.fill_between(v, train_high, train_low, alpha=0.15, color='blue')\n",
    "    # validation_scoresをプロット\n",
    "    plt.plot(v, valid_center, color='green', linestyle='--', marker='o', markersize=5, label='validation score')\n",
    "    plt.fill_between(v, valid_high, valid_low, alpha=0.15, color='green')\n",
    "    # 最適パラメータを縦線表示\n",
    "    plt.axvline(x=best_params[k], color='gray')\n",
    "    # スケールを'log'に（線形なパラメータは'linear'にするので注意）\n",
    "    plt.xscale('log')\n",
    "    # 軸ラベルおよび凡例の指定\n",
    "    plt.xlabel(k)  # パラメータ名を横軸ラベルに\n",
    "    plt.ylabel(scoring)  # スコア名を縦軸ラベルに\n",
    "    plt.legend(loc='lower right')  # 凡例\n",
    "    # グラフを描画\n",
    "    plt.show()"
   ]
  },
  {
   "cell_type": "markdown",
   "id": "patient-collector",
   "metadata": {},
   "source": [
    "### チューニング後のモデルを可視化"
   ]
  },
  {
   "cell_type": "code",
   "execution_count": null,
   "id": "surgical-outreach",
   "metadata": {},
   "outputs": [],
   "source": [
    "classplot.class_separator_plot(model, ['petal_width', 'petal_length'], 'species', iris,\n",
    "                               cv=cv, display_cv_indices=[0, 1, 2],\n",
    "                               clf_params=best_params)"
   ]
  }
 ],
 "metadata": {
  "kernelspec": {
   "display_name": "Python 3",
   "language": "python",
   "name": "python3"
  },
  "language_info": {
   "codemirror_mode": {
    "name": "ipython",
    "version": 3
   },
   "file_extension": ".py",
   "mimetype": "text/x-python",
   "name": "python",
   "nbconvert_exporter": "python",
   "pygments_lexer": "ipython3",
   "version": "3.9.8"
  }
 },
 "nbformat": 4,
 "nbformat_minor": 5
}
