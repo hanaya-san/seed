{
 "cells": [
  {
   "cell_type": "markdown",
   "metadata": {},
   "source": [
    "### データセットのDL"
   ]
  },
  {
   "cell_type": "code",
   "execution_count": null,
   "metadata": {
    "collapsed": true
   },
   "outputs": [],
   "source": [
    "# hanaya-san/seed の feat/r4-workブランチをクローンしてくる\n",
    "!git clone -b feat/r4-work https://github.com/hanaya-san/seed.git  \n",
    "\n",
    "# 今回使用するデータを直下にコピーしてくる\n",
    "!cp -r './seed/sandbox/r4-util/lecture-materials/data/titanic/' './data'"
   ]
  },
  {
   "cell_type": "markdown",
   "metadata": {},
   "source": [
    "## タイタニックデータセット\n",
    "> タイタニック号沈没事故（タイタニックごうちんぼつじこ）とは、1912年4月14日の夜から4月15日の朝にかけて、イギリス・サウサンプトンからアメリカ合衆国・ニューヨーク行きの処女航海中の4日目に、北大西洋で起きた。当時世界最大の客船であったタイタニックは、1912年4月14日の23時40分（事故現場時間）に氷山に衝突した時には2,224人を乗せていた。事故が起きてから2時間40分後の翌4月15日の2時20分に沈没し、1,513人が亡くなった。これは1912年当時、海難事故の最大死者数であった。\n",
    "\n",
    "## モチベーション\n",
    "#### 何をするの？\n",
    "- どのような人が生き残る可能性が高かったのか分析する。\n",
    "- タイタニック号乗車客の生存/死亡を予測する機械学習モデルを作る。\n",
    "\n",
    "#### 何が身につくの？\n",
    "- Pythonの基礎(配列、DataFrameの扱い)\n",
    "- ２値分類"
   ]
  },
  {
   "cell_type": "code",
   "execution_count": null,
   "metadata": {
    "collapsed": true
   },
   "outputs": [],
   "source": [
    "!ls './data'"
   ]
  },
  {
   "cell_type": "code",
   "execution_count": null,
   "metadata": {
    "collapsed": true
   },
   "outputs": [],
   "source": [
    "import numpy as np\n",
    "import pandas as pd\n",
    "from IPython.display import display"
   ]
  },
  {
   "cell_type": "markdown",
   "metadata": {},
   "source": [
    "### Numpy\n",
    "***\n",
    "Pythonにおいて数値計算を効率的に行うための拡張モジュールである。  \n",
    "効率的な数値計算を行うための型付きの多次元配列（例えばベクトルや行列などを表現できる）のサポートをPythonに加えるとともに、それらを操作するための大規模な高水準の数学関数ライブラリを提供する。\n",
    "<br>\n",
    "<br>\n",
    "### Pandas\n",
    "***\n",
    "Pythonにおいて、データ解析を支援する機能を提供するライブラリである。  \n",
    "特に、数表および時系列データを操作するためのデータ構造と演算を提供する。  \n",
    "メモリ内のデータ構造とその他のフォーマットのデータ間で相互に読み書きするためのツール群。  \n",
    "フォーマット例: CSV、テキストファイル、Excel、SQLデータベース、HDF5フォーマットなど。\n"
   ]
  },
  {
   "cell_type": "markdown",
   "metadata": {},
   "source": [
    "####  データセットの読み込み\n",
    "- train.csv (トレーニングデータ)\n",
    "- test.csv (テストデータ)\n",
    "- gender_submission.csv (テストデータの正解ラベル)\n",
    "***\n",
    "\n",
    "##### トレーニングデータ\n",
    "- 機械学習モデルを構築するために使用する。\n",
    "- 乗客それぞれの生存に関する結果を正解データとして持っている。\n",
    "\n",
    "##### テストデータ\n",
    "- 作成したモデルの予測評価を検証するデータ。\n",
    "- テストデータは、各乗客について生存(正解)を持っていない。  \n",
    "　→ これを予測するのが今回の目的\n",
    "\n",
    "##### テストデータの正解ラベル\n",
    "- テストデータを予測評価した際に、答え合わせする為のデータ"
   ]
  },
  {
   "cell_type": "code",
   "execution_count": null,
   "metadata": {
    "collapsed": true
   },
   "outputs": [],
   "source": [
    "train_df = pd.read_csv('./data/train.csv')\n",
    "test_df = pd.read_csv('./data/test.csv')\n",
    "test_answer_df = pd.read_csv('./data/gender_submission.csv')"
   ]
  },
  {
   "cell_type": "markdown",
   "metadata": {},
   "source": [
    "#### データの中身を確認\n",
    "- train.csv\n",
    "  - 891名の乗客データ\n",
    "- test.csv\n",
    "  - 418名の乗客データ\n",
    "- gender_submission.csv\n",
    "  - テストデータ(418名)の生存/死亡データ"
   ]
  },
  {
   "cell_type": "code",
   "execution_count": null,
   "metadata": {
    "collapsed": true,
    "scrolled": true
   },
   "outputs": [],
   "source": [
    "print('== Training Data ==')\n",
    "display(train_df)\n",
    "print('== Test Data ==')\n",
    "display(test_df)\n",
    "print('== Test Answer Data ==')\n",
    "display(test_answer_df)"
   ]
  },
  {
   "cell_type": "code",
   "execution_count": null,
   "metadata": {
    "collapsed": true
   },
   "outputs": [],
   "source": [
    "'''\n",
    "上記だとテーブルが大量に表示されるので、\n",
    "各テーブル上位3件のみ表示して見やすくする。\n",
    "'''\n",
    "print('== Training Data ==')\n",
    "display(train_df.head(3))\n",
    "print('== Test Data ==')\n",
    "display(test_df.head(3))\n",
    "print('== Test Answer Data ==')\n",
    "display(test_answer_df.head(3))"
   ]
  },
  {
   "cell_type": "markdown",
   "metadata": {},
   "source": [
    "#### データセットの項目説明\n",
    "***\n",
    "\n",
    "|変数名|説明|備考|\n",
    "|:--|:--|:--|\n",
    "|PassengerId|固有ID||\n",
    "|Survived|生存フラグ|0:死亡, 1:生存|\n",
    "|Pclass|チケットの階級|1:高い, 2:中, 3:低い|\n",
    "|Name|名前||\n",
    "|Sex|性別||\n",
    "|Age|年齢||\n",
    "|SibSp|乗船している兄弟・配偶者の数||\n",
    "|Parch|乗船している両親・子供の数||\n",
    "|Ticket|チケット番号||\n",
    "|Fare|運賃||\n",
    "|Cabin|客室番号||\n",
    "|Embarked|乗船した港名|C:Cherbourg, Q:Queenstown, S:Southampton|"
   ]
  },
  {
   "cell_type": "markdown",
   "metadata": {},
   "source": [
    "#### データの欠損値を確認"
   ]
  },
  {
   "cell_type": "code",
   "execution_count": null,
   "metadata": {
    "collapsed": true
   },
   "outputs": [],
   "source": [
    "print('check NaN (train)')\n",
    "display(train_df.isnull().sum())\n",
    "\n",
    "print('check NaN (Test)')\n",
    "display(test_df.isnull().sum())"
   ]
  },
  {
   "cell_type": "markdown",
   "metadata": {},
   "source": [
    "#### 基礎統計量を表示する\n",
    "***\n",
    "(全て、文字列、欠損値は計算対象外とする)\n",
    "- count : 個数\n",
    "- mean : 平均値\n",
    "- std : 標準偏差 (データのバラつき具合)\n",
    "- min : 最小値\n",
    "- 25% : 25パーセンタイル（第一四分位数）\n",
    "- 50% : 中央値\n",
    "- 75% : 75パーセンタイル（第三四分位数）\n",
    "- max : 最大値"
   ]
  },
  {
   "cell_type": "code",
   "execution_count": null,
   "metadata": {
    "collapsed": true
   },
   "outputs": [],
   "source": [
    "train_df.describe()"
   ]
  },
  {
   "cell_type": "markdown",
   "metadata": {},
   "source": [
    "#### 統計量の可視化"
   ]
  },
  {
   "cell_type": "code",
   "execution_count": null,
   "metadata": {
    "collapsed": true
   },
   "outputs": [],
   "source": [
    "import matplotlib.pyplot as plt"
   ]
  },
  {
   "cell_type": "markdown",
   "metadata": {},
   "source": [
    "### matplotlib\n",
    "***\n",
    "Matplotlibは、Pythonおよびその科学計算用ライブラリNumPyのためのグラフ描画ライブラリである。  \n",
    "描画したグラフを各種形式の画像（各種ベクトル画像形式も含む）として保存することもできる。"
   ]
  },
  {
   "cell_type": "code",
   "execution_count": null,
   "metadata": {
    "collapsed": true
   },
   "outputs": [],
   "source": [
    "'''\n",
    "生存者と死亡者にデータ分割\n",
    "　df[df[key] == val]\n",
    "'''\n",
    "survive_df = train_df[train_df['Survived'] == 1]\n",
    "dead_df = train_df[train_df['Survived'] == 0]"
   ]
  },
  {
   "cell_type": "markdown",
   "metadata": {},
   "source": [
    "#### 生存/死亡データと年齢データの関係性を確認(可視化)\n",
    "- 生存者(青), 死亡者(赤)として、棒グラフで可視化\n",
    "- 年齢情報と相関があるか調べる"
   ]
  },
  {
   "cell_type": "code",
   "execution_count": null,
   "metadata": {
    "collapsed": true
   },
   "outputs": [],
   "source": [
    "'''\n",
    "データの整形\n",
    "  df['Age']: DataFrameのAge列だけを抽出\n",
    "  value_counts: 配列に存在する同じ値(年齢)のデータをカウント\n",
    "  sort_index: Index(今回は年齢)の昇順ソート\n",
    "'''\n",
    "\n",
    "# 5歳単位でまとめる\n",
    "_survive_df = (survive_df['Age'].dropna() / 5).astype(int) * 5\n",
    "_dead_df = (dead_df['Age'].dropna() / 5).astype(int) * 5\n",
    "\n",
    "view_survive_data = _survive_df.value_counts().sort_index()\n",
    "view_dead_data = _dead_df.value_counts().sort_index()\n",
    "\n",
    "plt.figure(figsize=(14, 6)) # グラフ描画領域のサイズを指定\n",
    "plt.title('Survived by age') # グラフタイトルを指定\n",
    "plt.bar(np.arange(len(view_survive_data)), view_survive_data, alpha=0.6, color='blue') # 棒グラフを描画\n",
    "plt.bar(np.arange(len(view_dead_data)), view_dead_data, alpha=0.6, color='red') # 棒グラフを描画\n",
    "plt.legend(['Survived', 'Dead']) # グラフの凡例を指定\n",
    "plt.ylabel('count') # y軸のラベル名を指定\n",
    "plt.xlabel('age') # x軸ラベルを指定\n",
    "plt.xticks(np.arange(len(view_dead_data)), np.arange(len(view_dead_data))*5)\n",
    "plt.show() # グラフを描画"
   ]
  },
  {
   "cell_type": "markdown",
   "metadata": {},
   "source": [
    "#### 生存/死亡データと性別データの関係性を確認(可視化)\n",
    "- 生存者(青), 死亡者(赤)として、棒グラフで可視化\n",
    "- 性別情報と相関があるか調べる"
   ]
  },
  {
   "cell_type": "code",
   "execution_count": null,
   "metadata": {
    "collapsed": true
   },
   "outputs": [],
   "source": [
    "'''\n",
    "データの整形\n",
    "  df['Sex']: DataFrameのSex列だけを抽出\n",
    "  value_counts: 配列に存在する同じ値(性別)のデータをカウント\n",
    "  sort_index: Index(今回は性別)の昇順ソート\n",
    "'''\n",
    "target_variable = 'Sex'\n",
    "\n",
    "view_survive_data = survive_df[target_variable].value_counts().sort_index()\n",
    "view_dead_data = dead_df[target_variable].value_counts().sort_index()\n",
    "\n",
    "plt.figure(figsize=(14, 6)) # グラフ描画領域のサイズを指定\n",
    "plt.title('Survived by {}'.format(target_variable)) # グラフタイトルを指定\n",
    "plt.bar(np.arange(len(view_survive_data)), view_survive_data, alpha=0.6, color='blue') # 棒グラフを描画\n",
    "plt.bar(np.arange(len(view_dead_data)), view_dead_data, alpha=0.6, color='red') # 棒グラフを描画\n",
    "plt.legend(['Survived', 'Dead']) # グラフの凡例を指定\n",
    "plt.ylabel('count') # y軸のラベル名を指定\n",
    "plt.xlabel(target_variable) # x軸ラベルを指定\n",
    "plt.xticks(np.arange(len(view_survive_data)), view_survive_data.index)\n",
    "plt.show() # グラフを描画"
   ]
  },
  {
   "cell_type": "markdown",
   "metadata": {},
   "source": [
    "#### 生存/死亡データとチケット階級データの関係性を確認(可視化)\n",
    "\n",
    "- 生存者(青), 死亡者(赤)として、棒グラフで可視化\n",
    "- チケット階級情報と相関があるか調べる"
   ]
  },
  {
   "cell_type": "code",
   "execution_count": null,
   "metadata": {
    "collapsed": true
   },
   "outputs": [],
   "source": [
    "'''\n",
    "データの整形\n",
    "  df['Pclass']: DataFrameのPclass列だけを抽出\n",
    "  value_counts: 配列に存在する同じ値(チケット階級)のデータをカウント\n",
    "  sort_index: Index(今回はチケット階級)の昇順ソート\n",
    "'''\n",
    "target_variable = 'Pclass'\n",
    "\n",
    "view_survive_data = survive_df[target_variable].value_counts().sort_index()\n",
    "view_dead_data = dead_df[target_variable].value_counts().sort_index()\n",
    "\n",
    "plt.figure(figsize=(14, 6)) # グラフ描画領域のサイズを指定\n",
    "plt.title('Survived by {}'.format(target_variable)) # グラフタイトルを指定\n",
    "plt.bar(np.arange(len(view_survive_data)), view_survive_data, alpha=0.6, color='blue') # 棒グラフを描画\n",
    "plt.bar(np.arange(len(view_dead_data)), view_dead_data, alpha=0.6, color='red') # 棒グラフを描画\n",
    "plt.legend(['Survived', 'Dead']) # グラフの凡例を指定\n",
    "plt.ylabel('count') # y軸のラベル名を指定\n",
    "plt.xlabel(target_variable) # x軸ラベルを指定\n",
    "plt.xticks(np.arange(len(view_survive_data)), view_survive_data.index)\n",
    "plt.show() # グラフを描画"
   ]
  },
  {
   "cell_type": "markdown",
   "metadata": {},
   "source": [
    "#### 他のデータも俯瞰してみよう"
   ]
  },
  {
   "cell_type": "code",
   "execution_count": null,
   "metadata": {
    "collapsed": true
   },
   "outputs": [],
   "source": []
  },
  {
   "cell_type": "markdown",
   "metadata": {},
   "source": [
    "### 学習\n",
    "***\n",
    "#### 解析する変数の選別\n",
    "\n",
    "|変数名|説明|備考|\n",
    "|:--|:--|:--|\n",
    "|Pclass|チケットの階級|1:高い, 2:中, 3:低い|\n",
    "|Name|名前||\n",
    "|Sex|性別||\n",
    "|Age|年齢||\n",
    "|SibSp|乗船している兄弟・配偶者の数||\n",
    "|Parch|乗船している両親・子供の数||\n",
    "|Ticket|チケット番号||\n",
    "|Fare|運賃||\n",
    "|Cabin|客室番号||\n",
    "|Embarked|乗船した港名|C:Cherbourg, Q:Queenstown, S:Southampton|\n",
    "\n",
    "ここから、使用したいパラメータを選択する。"
   ]
  },
  {
   "cell_type": "code",
   "execution_count": null,
   "metadata": {
    "collapsed": true
   },
   "outputs": [],
   "source": [
    "# 使用する変数名をここに記述\n",
    "use_variable = [\n",
    "    'Pclass',\n",
    "    'Sex',\n",
    "    'Age',\n",
    "]\n",
    "\n",
    "'''\n",
    "X_train : 学習用データ\n",
    "X_test : 精度検証用データ\n",
    "Y_train : 学習用正解ラベル\n",
    "Y_test : 精度検証用正解ラベル\n",
    "'''\n",
    "X_train = train_df.loc[:, use_variable].copy()\n",
    "X_test = test_df.loc[:, use_variable].copy()\n",
    "Y_train = train_df['Survived']\n",
    "Y_test = test_answer_df['Survived']"
   ]
  },
  {
   "cell_type": "markdown",
   "metadata": {},
   "source": [
    "#### 分析器に入力できる形に、データを変換する\n",
    "- 今回はRandomForestを使用する\n",
    "- インプット形式は、数値型\n",
    "- 文字列、NaNは受け付けない"
   ]
  },
  {
   "cell_type": "code",
   "execution_count": null,
   "metadata": {
    "collapsed": true
   },
   "outputs": [],
   "source": [
    "# 欠損値(NaN)を数値(0)に置き換える\n",
    "X_train = X_train.fillna(0)\n",
    "X_test = X_test.fillna(0)\n",
    "\n",
    "# 文字列データは、カテゴリカルな数値データに変換\n",
    "X_train['Sex'] = np.where(X_train['Sex']=='male', 0, 1)\n",
    "X_test['Sex'] = np.where(X_test['Sex']=='male', 0, 1)"
   ]
  },
  {
   "cell_type": "markdown",
   "metadata": {},
   "source": [
    "### scikit-learn (sklearn)\n",
    "***\n",
    "Pythonのオープンソース機械学習ライブラリ。  \n",
    "サポートベクターマシン、ランダムフォレスト、Gradient Boosting、k近傍法、DBSCANなどを含む様々な分類、回帰、クラスタリングアルゴリズムを備えている。  \n",
    "Pythonの数値計算ライブラリのNumPyとSciPyとやり取りするよう設計されている。"
   ]
  },
  {
   "cell_type": "code",
   "execution_count": null,
   "metadata": {
    "collapsed": true
   },
   "outputs": [],
   "source": [
    "from sklearn.ensemble import RandomForestClassifier\n",
    "\n",
    "# 学習と予測を行う\n",
    "rf = RandomForestClassifier(random_state=1)\n",
    "rf.fit(X_train, Y_train)\n",
    "Y_pred = rf.predict(X_test)\n",
    "submission = pd.DataFrame({\n",
    "        'PassengerId': test_df['PassengerId'],\n",
    "        'Survived': test_answer_df['Survived'],\n",
    "        'Pred': Y_pred\n",
    "    })\n",
    "\n",
    "display(submission)\n",
    "acc = round(len(submission[submission['Survived']==submission['Pred']]) / len(submission), 4)\n",
    "print('test accuracy: {}'.format(acc))"
   ]
  },
  {
   "cell_type": "markdown",
   "metadata": {},
   "source": [
    "#### 混同行列（Confusion Matrix）を表示\n",
    "||死亡と予測|生存と予測|\n",
    "|:--:|:--|:--|\n",
    "|実際に死亡|??件|??件|\n",
    "|実際に生存|??件|??件|"
   ]
  },
  {
   "cell_type": "code",
   "execution_count": null,
   "metadata": {
    "collapsed": true
   },
   "outputs": [],
   "source": [
    "from sklearn.metrics import confusion_matrix\n",
    "confusion_matrix(submission['Survived'], submission['Pred'])"
   ]
  },
  {
   "cell_type": "markdown",
   "metadata": {},
   "source": [
    "#### 変数重要度の可視化\n",
    "- インプットした変数について、スコア(影響度)を出力。\n",
    "  - スコアが高い程、生存/死亡の分類に貢献したと言える。"
   ]
  },
  {
   "cell_type": "code",
   "execution_count": null,
   "metadata": {
    "collapsed": true
   },
   "outputs": [],
   "source": [
    "features = X_train.columns\n",
    "importances = rf.feature_importances_\n",
    "indices = np.argsort(importances)\n",
    "\n",
    "plt.figure(figsize=(6,len(X_train.columns)))\n",
    "plt.barh(range(len(indices)), importances[indices], color='b', align='center')\n",
    "plt.yticks(range(len(indices)), features[indices])\n",
    "plt.show()"
   ]
  },
  {
   "cell_type": "code",
   "execution_count": null,
   "metadata": {
    "collapsed": true
   },
   "outputs": [],
   "source": []
  }
 ],
 "metadata": {
  "anaconda-cloud": {},
  "kernelspec": {
   "display_name": "Python [default]",
   "language": "python",
   "name": "python3"
  },
  "language_info": {
   "codemirror_mode": {
    "name": "ipython",
    "version": 3
   },
   "file_extension": ".py",
   "mimetype": "text/x-python",
   "name": "python",
   "nbconvert_exporter": "python",
   "pygments_lexer": "ipython3",
   "version": "3.5.2"
  }
 },
 "nbformat": 4,
 "nbformat_minor": 2
}
