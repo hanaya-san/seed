{
 "cells": [
  {
   "cell_type": "markdown",
   "id": "catholic-cattle",
   "metadata": {},
   "source": [
    "# データサイエンス(Python)勉強会用 2021/09/03 (金)"
   ]
  },
  {
   "cell_type": "markdown",
   "id": "blessed-event",
   "metadata": {},
   "source": [
    "## 国際連合の世界の推計人口データを読込\n",
    "\n",
    "LocID: 地域を表す数値コード。国や地域の場合は、ISO3166-1の数値規格に準拠しています。<br>\n",
    "Location: 地域、サブリージョン、国、またはエリアの名前<br>\n",
    "VarID: Variantを示す、数値コード<br>\n",
    "Variant: プロジェクションバリアント名（Medium が最も使用される）；詳細は、Definition of projection variants を参照。<br>\n",
    "Time: 単一年（例：1950年）またはデータの期間（例：1950-1955年）を示すラベル<br>\n",
    "MidPeriod: データの中間期を示す数値で、小数点以下は月を表す（例：1950年7月は1950.5）<br>\n",
    "PopMale: 男性の人口 (千)<br>\n",
    "PopFemale: 女性の人口 (千)<br>\n",
    "PopTotal: 総人口 (千)<br>\n",
    "PopDensity: 人口密度<br>"
   ]
  },
  {
   "cell_type": "code",
   "execution_count": null,
   "id": "molecular-peripheral",
   "metadata": {},
   "outputs": [],
   "source": [
    "# hanaya-san/seed の feat/r4-workブランチをクローンしてくる\n",
    "!git clone -b feat/r4-work https://github.com/hanaya-san/seed.git  \n",
    "\n",
    "# 今回使用するデータを直下にコピーしてくる\n",
    "!cp -r './seed/sandbox/r4-util/lecture-materials/data/' './data'"
   ]
  },
  {
   "cell_type": "code",
   "execution_count": null,
   "id": "peripheral-retirement",
   "metadata": {},
   "outputs": [],
   "source": [
    "df_pop = pd.read_csv('./data/WPP2019_TotalPopulationBySex.csv')\n",
    "df_pop"
   ]
  },
  {
   "cell_type": "code",
   "execution_count": null,
   "id": "apart-matter",
   "metadata": {},
   "outputs": [],
   "source": [
    "import matplotlib.pyplot as plt\n",
    "import pandas as pd\n",
    "import numpy as np"
   ]
  },
  {
   "cell_type": "markdown",
   "id": "sublime-greeting",
   "metadata": {},
   "source": [
    "# 2019年の人口データを抽出"
   ]
  },
  {
   "cell_type": "code",
   "execution_count": null,
   "id": "passing-flavor",
   "metadata": {},
   "outputs": [],
   "source": [
    "df_pop[df_pop['Time'] == 2019]\n",
    "df_loc_2019 = df_pop[(df_pop['LocID'] < 900) & (df_pop['Time'] == 2019)].sort_values('PopTotal', ascending=False).reset_index(drop=True)[:205]\n",
    "loc_2019_list = df_loc_2019['Location'].values\n",
    "df_2019 = df_pop[df_pop['Location'].isin(loc_2019_list)]\n",
    "df_2019 = df_2019[df_2019['Time'] == 2019].reset_index(drop=True)\n",
    "df_2019"
   ]
  },
  {
   "cell_type": "markdown",
   "id": "geological-royal",
   "metadata": {},
   "source": [
    "# 2019年の人口TOP11の国名を取得"
   ]
  },
  {
   "cell_type": "code",
   "execution_count": null,
   "id": "requested-grade",
   "metadata": {},
   "outputs": [],
   "source": [
    "df_pop[df_pop['Time'] == 2019]\n",
    "df_loc_2019_top11 = df_pop[(df_pop['LocID'] < 900) & (df_pop['Time'] == 2019)].sort_values('PopTotal', ascending=False).reset_index(drop=True)[:11]\n",
    "loc_2019_top11_list = df_loc_2019_top11['Location'].values\n",
    "loc_2019_top11_list"
   ]
  },
  {
   "cell_type": "markdown",
   "id": "jewish-japanese",
   "metadata": {},
   "source": [
    "# 2019年人口TOP11の国について人口データを抽出"
   ]
  },
  {
   "cell_type": "code",
   "execution_count": null,
   "id": "important-norway",
   "metadata": {},
   "outputs": [],
   "source": [
    "df_top11 = df_pop[df_pop['Location'].isin(loc_2019_top11_list)]\n",
    "df_top11_2019 = df_top11[df_top11['Time'] == 2019].reset_index(drop=True)\n",
    "df_top11_2019"
   ]
  },
  {
   "cell_type": "markdown",
   "id": "dramatic-level",
   "metadata": {},
   "source": [
    "# 1992年 - 2019年の人口データを抽出\n",
    "## ※2019年時点でTOP11の国のみを抽出\n",
    "## ※時系列データ\n"
   ]
  },
  {
   "cell_type": "code",
   "execution_count": null,
   "id": "structured-partition",
   "metadata": {},
   "outputs": [],
   "source": [
    "df_top11 = df_top11[(df_top11['Time'] >= 1992) & (df_top11['Time'] <= 2019)].reset_index(drop=True)\n",
    "df_top11"
   ]
  },
  {
   "cell_type": "markdown",
   "id": "spread-miracle",
   "metadata": {},
   "source": [
    "# 1992年 - 2019年の日本の人口データを抽出\n",
    "## ※時系列データ"
   ]
  },
  {
   "cell_type": "code",
   "execution_count": null,
   "id": "blessed-insert",
   "metadata": {},
   "outputs": [],
   "source": [
    "df_jp = df_top11[(df_top11['Time'] >= 1992) & (df_top11['Time'] <= 2019) & (df_top11['Location'] == 'Japan')].reset_index(drop=True)\n",
    "df_jp"
   ]
  },
  {
   "cell_type": "markdown",
   "id": "fossil-captain",
   "metadata": {},
   "source": [
    "# ◆比較\n",
    "## 2019年時点の人口を国別に比較したい。\n",
    "- 時系列データが含まれるか：　No\n",
    "- 変数の数: 1つ (PopTotal)"
   ]
  },
  {
   "cell_type": "code",
   "execution_count": null,
   "id": "coordinated-tower",
   "metadata": {},
   "outputs": [],
   "source": [
    "plt.figure(figsize=(10, 5))\n",
    "plt.bar(np.arange(11), df_top11_2019['PopTotal'])\n",
    "plt.xticks(np.arange(11), df_top11_2019['Location'].values, rotation=45)\n",
    "plt.show()"
   ]
  },
  {
   "cell_type": "markdown",
   "id": "royal-brunei",
   "metadata": {},
   "source": [
    "## 2019年時点の人口を男女別に比較したい。\n",
    "- 時系列データが含まれるか: No\n",
    "- 変数の数: 2つ (PopMale, PopFemale)\n",
    "- カテゴリ数: Location=11つ"
   ]
  },
  {
   "cell_type": "code",
   "execution_count": null,
   "id": "naked-washer",
   "metadata": {},
   "outputs": [],
   "source": [
    "plt.figure(figsize=(10, 5))\n",
    "plt.bar(np.arange(11)-0.15, df_top11_2019['PopMale'], width=0.3)\n",
    "plt.bar(np.arange(11)+0.15, df_top11_2019['PopFemale'], width=0.3)\n",
    "plt.xticks(np.arange(11), df_top11_2019['Location'].values, rotation=45)\n",
    "plt.legend(['PopMale', 'PopFemale'])\n",
    "plt.show()"
   ]
  },
  {
   "cell_type": "markdown",
   "id": "general-reunion",
   "metadata": {},
   "source": [
    "## 1992年 - 2019年の日本の人口を年別に比較したい。\n",
    "- 時系列データが含まれるか: Yes\n",
    "- 変数の数: 1つ (PopTotal)\n",
    "- カテゴリ数: Location=1つ(日本のみ)"
   ]
  },
  {
   "cell_type": "code",
   "execution_count": null,
   "id": "million-group",
   "metadata": {},
   "outputs": [],
   "source": [
    "plt.figure(figsize=(10, 5))\n",
    "plt.bar(np.arange(len(df_jp)), df_jp['PopTotal'])\n",
    "plt.xticks(np.arange(len(df_jp)), df_jp['Time'].values, rotation=45)\n",
    "plt.ylim(125000, 129000)\n",
    "plt.show()"
   ]
  },
  {
   "cell_type": "markdown",
   "id": "complimentary-estimate",
   "metadata": {},
   "source": [
    "## 1992年 - 2019年の日本の人口を年別男女別に比較したい。\n",
    "- 時系列データが含まれるか: Yes\n",
    "- 変数の数: 2つ (PopMale, PopFemale)\n",
    "- カテゴリ数: Location=1つ(日本のみ)"
   ]
  },
  {
   "cell_type": "code",
   "execution_count": null,
   "id": "right-boston",
   "metadata": {},
   "outputs": [],
   "source": [
    "plt.figure(figsize=(10, 5))\n",
    "plt.bar(np.arange(len(df_jp))-0.15, df_jp['PopMale'], width=0.3)\n",
    "plt.bar(np.arange(len(df_jp))+0.15, df_jp['PopFemale'], width=0.3)\n",
    "plt.xticks(np.arange(len(df_jp)), df_jp['Time'].values, rotation=45)\n",
    "plt.ylim(61000, 66000)\n",
    "plt.legend(['PopMale', 'PopFemale'])\n",
    "plt.show()"
   ]
  },
  {
   "cell_type": "markdown",
   "id": "buried-excuse",
   "metadata": {},
   "source": [
    "## 1992年 - 2019年の人口を国別に比較したい。\n",
    "- 時系列データが含まれるか: Yes\n",
    "- 変数の数: 1つ (PopTotal)\n",
    "- カテゴリ数: Location=11つ"
   ]
  },
  {
   "cell_type": "code",
   "execution_count": null,
   "id": "funky-resolution",
   "metadata": {},
   "outputs": [],
   "source": [
    "plt.figure(figsize=(10, 5))\n",
    "loc_list = df_top11['Location'].unique()\n",
    "\n",
    "for loc in loc_list:\n",
    "    plt.plot(df_top11[df_top11['Location'] == loc].reset_index(drop=True)['PopTotal'])\n",
    "\n",
    "plt.xticks(np.arange(len(df_jp)), df_jp['Time'].values, rotation=45)\n",
    "plt.legend(loc_list, bbox_to_anchor=(1.05, 1), loc='upper left')\n",
    "#plt.ylim(100000, 350000)\n",
    "#plt.ylim(1200000, 1450000)\n",
    "plt.show()"
   ]
  },
  {
   "cell_type": "markdown",
   "id": "determined-paint",
   "metadata": {},
   "source": [
    "# ◆分布\n",
    "## 2019年の各国人口の分布が知りたい\n",
    "- 変数の数: 1つ(PopTotal)\n",
    "- データの粒度: 大きい"
   ]
  },
  {
   "cell_type": "code",
   "execution_count": null,
   "id": "successful-dimension",
   "metadata": {},
   "outputs": [],
   "source": [
    "fig, ax = plt.subplots(figsize = (10, 5))\n",
    "ax.set_ylabel('Count')\n",
    "ax.set_xlabel('PopCount')\n",
    "ax.hist(df_2019['PopTotal'], bins=20, edgecolor=\"black\");"
   ]
  },
  {
   "cell_type": "markdown",
   "id": "sexual-trailer",
   "metadata": {},
   "source": [
    "# ◆構成\n",
    "## 2019年人口TOP11の国について人数割合が知りたい\n",
    "- 確認観点: 割合\n",
    "- 時系列データが含まれるか: No"
   ]
  },
  {
   "cell_type": "code",
   "execution_count": null,
   "id": "greek-chicago",
   "metadata": {},
   "outputs": [],
   "source": [
    "plt.figure(figsize=(10, 5))\n",
    "sv = df_top11_2019.sort_values('PopTotal', ascending=False)\n",
    "plt.pie(sv['PopTotal'], labels=sv['Location'], counterclock=False, startangle=90)\n",
    "plt.show()"
   ]
  },
  {
   "cell_type": "markdown",
   "id": "contemporary-hawaiian",
   "metadata": {},
   "source": [
    "## 2019年人口TOP11の国について値が知りたい\n",
    "- 確認観点: 値\n",
    "- 時系列データが含まれるか: No"
   ]
  },
  {
   "cell_type": "code",
   "execution_count": null,
   "id": "phantom-definition",
   "metadata": {},
   "outputs": [],
   "source": [
    "plt.figure(figsize=(10, 5))\n",
    "plt.bar(np.arange(11), df_top11_2019['PopTotal'])\n",
    "plt.xticks(np.arange(11), df_top11_2019['Location'].values, rotation=45)\n",
    "plt.show()"
   ]
  },
  {
   "cell_type": "markdown",
   "id": "breathing-injection",
   "metadata": {},
   "source": [
    "## 1992年-2019年における国別人口の推移(割合と値)を確認したい\n",
    "- 時系列データが含まれるか: Yes\n",
    "- 確認観点: 割合+値\n",
    "- ※６カ国を対象とする(バングラデシュ, ブラジル, 中国, インド, 日本, アメリカ)"
   ]
  },
  {
   "cell_type": "code",
   "execution_count": null,
   "id": "difficult-rabbit",
   "metadata": {},
   "outputs": [],
   "source": [
    "plt.figure(figsize=(10, 5))\n",
    "\n",
    "_df_bang = df_top11[df_top11['Location'] == 'Bangladesh'].reset_index(drop=True)['PopTotal']\n",
    "_df_br = df_top11[df_top11['Location'] == 'Brazil'].reset_index(drop=True)['PopTotal']\n",
    "_df_cn = df_top11[df_top11['Location'] == 'China'].reset_index(drop=True)['PopTotal']\n",
    "_df_in = df_top11[df_top11['Location'] == 'India'].reset_index(drop=True)['PopTotal']\n",
    "_df_jp = df_top11[df_top11['Location'] == 'Japan'].reset_index(drop=True)['PopTotal']\n",
    "_df_usa = df_top11[df_top11['Location'] == 'United States of America'].reset_index(drop=True)['PopTotal']\n",
    "\n",
    "plt.stackplot(np.arange(len(_df_jp)), _df_bang, _df_br, _df_cn, _df_in, _df_jp, _df_usa)\n",
    "plt.xticks(np.arange(len(df_jp)), df_jp['Time'].values, rotation=45)\n",
    "\n",
    "plt.legend(['Bangladesh', 'Brazil', 'China', 'India', 'Japan', 'United States of America'])\n",
    "\n",
    "plt.show()"
   ]
  },
  {
   "cell_type": "markdown",
   "id": "unauthorized-palmer",
   "metadata": {},
   "source": [
    "# ◆相関関係\n",
    "## 2019年の各国総人口と人口密度の相関関係が知りたい\n",
    "- 変数の数: 2つ(PopTotal, PopDensity)\n",
    "- データの粒度: 大きい"
   ]
  },
  {
   "cell_type": "code",
   "execution_count": null,
   "id": "distinct-cosmetic",
   "metadata": {},
   "outputs": [],
   "source": [
    "plt.figure(figsize=(10, 10))\n",
    "plt.scatter(df_2019['PopTotal'], df_2019['PopDensity'])\n",
    "#plt.xlim(-1000, 40000)\n",
    "#plt.ylim(-200, 3000)\n",
    "plt.show()"
   ]
  },
  {
   "cell_type": "markdown",
   "id": "arranged-insured",
   "metadata": {},
   "source": [
    "# Appendix"
   ]
  },
  {
   "cell_type": "markdown",
   "id": "emotional-oklahoma",
   "metadata": {},
   "source": [
    "# 棒グラフ サンプル"
   ]
  },
  {
   "cell_type": "code",
   "execution_count": null,
   "id": "fixed-archive",
   "metadata": {},
   "outputs": [],
   "source": [
    "# Libraries\n",
    "import numpy as np\n",
    "import matplotlib.pyplot as plt\n",
    "\n",
    "# Make a random dataset:\n",
    "height = [3, 12, 5, 18, 45]\n",
    "bars = ('A', 'B', 'C', 'D', 'E')\n",
    "y_pos = np.arange(len(bars))\n",
    "\n",
    "# Create bars\n",
    "plt.bar(y_pos, height)\n",
    "\n",
    "# Create names on the x-axis\n",
    "plt.xticks(y_pos, bars)\n",
    "\n",
    "# Show graphic\n",
    "plt.show()"
   ]
  },
  {
   "cell_type": "markdown",
   "id": "entire-bailey",
   "metadata": {},
   "source": [
    "# ヒストグラム サンプル"
   ]
  },
  {
   "cell_type": "code",
   "execution_count": null,
   "id": "friendly-matrix",
   "metadata": {},
   "outputs": [],
   "source": [
    "# library & dataset\n",
    "import seaborn as sns\n",
    "df = sns.load_dataset('iris')\n",
    "\n",
    "# Plot the histogram thanks to the distplot function\n",
    "sns.distplot( a=df[\"sepal_length\"], hist=True, kde=False, rug=False )"
   ]
  },
  {
   "cell_type": "markdown",
   "id": "native-contribution",
   "metadata": {},
   "source": [
    "# バブルチャート サンプル"
   ]
  },
  {
   "cell_type": "code",
   "execution_count": null,
   "id": "smart-imagination",
   "metadata": {},
   "outputs": [],
   "source": [
    "# libraries\n",
    "!pip3 install gapminder\n",
    "import matplotlib.pyplot as plt\n",
    "import seaborn as sns\n",
    "from gapminder import gapminder # data set\n",
    "\n",
    "# data\n",
    "data = gapminder.loc[gapminder.year == 2007]\n",
    "\n",
    "# use the scatterplot function to build the bubble map\n",
    "sns.scatterplot(data=data, x=\"gdpPercap\", y=\"lifeExp\", size=\"pop\", legend=False, sizes=(20, 2000))\n",
    "\n",
    "# show the graph\n",
    "plt.show()"
   ]
  },
  {
   "cell_type": "code",
   "execution_count": null,
   "id": "infinite-broadcast",
   "metadata": {},
   "outputs": [],
   "source": [
    "gapminder"
   ]
  },
  {
   "cell_type": "code",
   "execution_count": null,
   "id": "greatest-fundamental",
   "metadata": {},
   "outputs": [],
   "source": []
  }
 ],
 "metadata": {
  "kernelspec": {
   "display_name": "Python 3",
   "language": "python",
   "name": "python3"
  },
  "language_info": {
   "codemirror_mode": {
    "name": "ipython",
    "version": 3
   },
   "file_extension": ".py",
   "mimetype": "text/x-python",
   "name": "python",
   "nbconvert_exporter": "python",
   "pygments_lexer": "ipython3",
   "version": "3.9.5"
  }
 },
 "nbformat": 4,
 "nbformat_minor": 5
}
