{
 "cells": [
  {
   "cell_type": "markdown",
   "metadata": {},
   "source": [
    "# Mecabを使って形態素解析で遊ぶ\n",
    "### ・文章を分解する"
   ]
  },
  {
   "cell_type": "code",
   "execution_count": 1,
   "metadata": {},
   "outputs": [
    {
     "data": {
      "text/plain": [
       "'\\nmecabが未インストールの場合は、コメントアウト外して実行\\n'"
      ]
     },
     "execution_count": 1,
     "metadata": {},
     "output_type": "execute_result"
    }
   ],
   "source": [
    "from IPython.display import display\n",
    "\n",
    "'''\n",
    "mecabが未インストールの場合は、コメントアウト外して実行\n",
    "'''\n",
    "#!brew install mecab\n",
    "#!brew install mecab-ipadic\n",
    "#!brew install swig\n",
    "#!brew install mecab-ipadic-NEologd\n",
    "#!pip3 install mecab-python3"
   ]
  },
  {
   "cell_type": "markdown",
   "metadata": {},
   "source": [
    "### Duo 日本語データ csvファイルをロード"
   ]
  },
  {
   "cell_type": "code",
   "execution_count": 2,
   "metadata": {},
   "outputs": [
    {
     "data": {
      "text/html": [
       "<div>\n",
       "<style scoped>\n",
       "    .dataframe tbody tr th:only-of-type {\n",
       "        vertical-align: middle;\n",
       "    }\n",
       "\n",
       "    .dataframe tbody tr th {\n",
       "        vertical-align: top;\n",
       "    }\n",
       "\n",
       "    .dataframe thead th {\n",
       "        text-align: right;\n",
       "    }\n",
       "</style>\n",
       "<table border=\"1\" class=\"dataframe\">\n",
       "  <thead>\n",
       "    <tr style=\"text-align: right;\">\n",
       "      <th></th>\n",
       "      <th>id</th>\n",
       "      <th>ja</th>\n",
       "    </tr>\n",
       "  </thead>\n",
       "  <tbody>\n",
       "    <tr>\n",
       "      <th>0</th>\n",
       "      <td>1</td>\n",
       "      <td>個人の意志は尊重しなければいけない。</td>\n",
       "    </tr>\n",
       "    <tr>\n",
       "      <th>1</th>\n",
       "      <td>2</td>\n",
       "      <td>気楽にいけよ。大丈夫、すべてうまくいくさ。</td>\n",
       "    </tr>\n",
       "    <tr>\n",
       "      <th>2</th>\n",
       "      <td>3</td>\n",
       "      <td>悲観的な人生観を捨てて、前向きな態度を常に持ち続けよう。</td>\n",
       "    </tr>\n",
       "  </tbody>\n",
       "</table>\n",
       "</div>"
      ],
      "text/plain": [
       "  id                            ja\n",
       "0  1            個人の意志は尊重しなければいけない。\n",
       "1  2         気楽にいけよ。大丈夫、すべてうまくいくさ。\n",
       "2  3  悲観的な人生観を捨てて、前向きな態度を常に持ち続けよう。"
      ]
     },
     "metadata": {},
     "output_type": "display_data"
    }
   ],
   "source": [
    "import pandas as pd\n",
    "\n",
    "ja_df = pd.read_csv('../data/duo_3-0_ja.csv', dtype='object')\n",
    "display(ja_df.head(3))"
   ]
  },
  {
   "cell_type": "markdown",
   "metadata": {},
   "source": [
    "### MeCabをインポートして呼び出し"
   ]
  },
  {
   "cell_type": "code",
   "execution_count": 3,
   "metadata": {},
   "outputs": [],
   "source": [
    "import MeCab\n",
    "\n",
    "trigger_path = !echo `mecab-config --dicdir`\"/mecab-ipadic-neologd\"\n",
    "mecab = MeCab.Tagger ('-d {}'.format(trigger_path[0]))"
   ]
  },
  {
   "cell_type": "markdown",
   "metadata": {},
   "source": [
    "### 形態素解析実行\n",
    "##### ・DUO_JA_ID に、解析したい文章IDをセット"
   ]
  },
  {
   "cell_type": "code",
   "execution_count": 4,
   "metadata": {},
   "outputs": [
    {
     "name": "stdout",
     "output_type": "stream",
     "text": [
      "['BOS/EOS', '*', '*', '*', '*', '*', '*', '*', '*']\n",
      "['名詞', '形容動詞語幹', '*', '*', '*', '*', '気楽', 'キラク', 'キラク']\n",
      "['助詞', '副詞化', '*', '*', '*', '*', 'に', 'ニ', 'ニ']\n",
      "['動詞', '自立', '*', '*', '五段・カ行促音便', '命令ｅ', 'いく', 'イケ', 'イケ']\n",
      "['助詞', '終助詞', '*', '*', '*', '*', 'よ', 'ヨ', 'ヨ']\n",
      "['記号', '句点', '*', '*', '*', '*', '。', '。', '。']\n",
      "['名詞', '形容動詞語幹', '*', '*', '*', '*', '大丈夫', 'ダイジョウブ', 'ダイジョーブ']\n",
      "['記号', '読点', '*', '*', '*', '*', '、', '、', '、']\n",
      "['名詞', '副詞可能', '*', '*', '*', '*', 'すべて', 'スベテ', 'スベテ']\n",
      "['形容詞', '自立', '*', '*', '形容詞・アウオ段', '連用テ接続', 'うまい', 'ウマク', 'ウマク']\n",
      "['動詞', '自立', '*', '*', '五段・カ行促音便', '基本形', 'いく', 'イク', 'イク']\n",
      "['助詞', '終助詞', '*', '*', '*', '*', 'さ', 'サ', 'サ']\n",
      "['記号', '句点', '*', '*', '*', '*', '。', '。', '。']\n",
      "['BOS/EOS', '*', '*', '*', '*', '*', '*', '*', '*']\n"
     ]
    }
   ],
   "source": [
    "DUO_JA_ID = 1\n",
    "\n",
    "text = ja_df['ja'].values[DUO_JA_ID]\n",
    "mecab.parse('')\n",
    "node = mecab.parseToNode(text)\n",
    "\n",
    "surface_lst, feature_0_lst, feature_1_lst, feature_8_lst = [], [], [], []\n",
    "while node:\n",
    "    surface_lst.append(node.surface)\n",
    "    feature_0_lst.append(node.feature.split(\",\")[0])\n",
    "    feature_1_lst.append(node.feature.split(\",\")[1])\n",
    "    feature_8_lst.append(node.feature.split(\",\")[8])\n",
    "    print(node.feature.split(','))\n",
    "    node = node.next"
   ]
  },
  {
   "cell_type": "markdown",
   "metadata": {},
   "source": [
    "### 解析結果を一覧表示"
   ]
  },
  {
   "cell_type": "code",
   "execution_count": 5,
   "metadata": {},
   "outputs": [
    {
     "name": "stdout",
     "output_type": "stream",
     "text": [
      "気楽にいけよ。大丈夫、すべてうまくいくさ。\n"
     ]
    },
    {
     "data": {
      "text/html": [
       "<div>\n",
       "<style scoped>\n",
       "    .dataframe tbody tr th:only-of-type {\n",
       "        vertical-align: middle;\n",
       "    }\n",
       "\n",
       "    .dataframe tbody tr th {\n",
       "        vertical-align: top;\n",
       "    }\n",
       "\n",
       "    .dataframe thead th {\n",
       "        text-align: right;\n",
       "    }\n",
       "</style>\n",
       "<table border=\"1\" class=\"dataframe\">\n",
       "  <thead>\n",
       "    <tr style=\"text-align: right;\">\n",
       "      <th></th>\n",
       "      <th>surface</th>\n",
       "      <th>feature_0</th>\n",
       "      <th>feature_1</th>\n",
       "      <th>feature_8</th>\n",
       "    </tr>\n",
       "  </thead>\n",
       "  <tbody>\n",
       "    <tr>\n",
       "      <th>0</th>\n",
       "      <td>気楽</td>\n",
       "      <td>名詞</td>\n",
       "      <td>形容動詞語幹</td>\n",
       "      <td>キラク</td>\n",
       "    </tr>\n",
       "    <tr>\n",
       "      <th>1</th>\n",
       "      <td>に</td>\n",
       "      <td>助詞</td>\n",
       "      <td>副詞化</td>\n",
       "      <td>ニ</td>\n",
       "    </tr>\n",
       "    <tr>\n",
       "      <th>2</th>\n",
       "      <td>いけ</td>\n",
       "      <td>動詞</td>\n",
       "      <td>自立</td>\n",
       "      <td>イケ</td>\n",
       "    </tr>\n",
       "    <tr>\n",
       "      <th>3</th>\n",
       "      <td>よ</td>\n",
       "      <td>助詞</td>\n",
       "      <td>終助詞</td>\n",
       "      <td>ヨ</td>\n",
       "    </tr>\n",
       "    <tr>\n",
       "      <th>4</th>\n",
       "      <td>。</td>\n",
       "      <td>記号</td>\n",
       "      <td>句点</td>\n",
       "      <td>。</td>\n",
       "    </tr>\n",
       "    <tr>\n",
       "      <th>5</th>\n",
       "      <td>大丈夫</td>\n",
       "      <td>名詞</td>\n",
       "      <td>形容動詞語幹</td>\n",
       "      <td>ダイジョーブ</td>\n",
       "    </tr>\n",
       "    <tr>\n",
       "      <th>6</th>\n",
       "      <td>、</td>\n",
       "      <td>記号</td>\n",
       "      <td>読点</td>\n",
       "      <td>、</td>\n",
       "    </tr>\n",
       "    <tr>\n",
       "      <th>7</th>\n",
       "      <td>すべて</td>\n",
       "      <td>名詞</td>\n",
       "      <td>副詞可能</td>\n",
       "      <td>スベテ</td>\n",
       "    </tr>\n",
       "    <tr>\n",
       "      <th>8</th>\n",
       "      <td>うまく</td>\n",
       "      <td>形容詞</td>\n",
       "      <td>自立</td>\n",
       "      <td>ウマク</td>\n",
       "    </tr>\n",
       "    <tr>\n",
       "      <th>9</th>\n",
       "      <td>いく</td>\n",
       "      <td>動詞</td>\n",
       "      <td>自立</td>\n",
       "      <td>イク</td>\n",
       "    </tr>\n",
       "    <tr>\n",
       "      <th>10</th>\n",
       "      <td>さ</td>\n",
       "      <td>助詞</td>\n",
       "      <td>終助詞</td>\n",
       "      <td>サ</td>\n",
       "    </tr>\n",
       "    <tr>\n",
       "      <th>11</th>\n",
       "      <td>。</td>\n",
       "      <td>記号</td>\n",
       "      <td>句点</td>\n",
       "      <td>。</td>\n",
       "    </tr>\n",
       "  </tbody>\n",
       "</table>\n",
       "</div>"
      ],
      "text/plain": [
       "   surface feature_0 feature_1 feature_8\n",
       "0       気楽        名詞    形容動詞語幹       キラク\n",
       "1        に        助詞       副詞化         ニ\n",
       "2       いけ        動詞        自立        イケ\n",
       "3        よ        助詞       終助詞         ヨ\n",
       "4        。        記号        句点         。\n",
       "5      大丈夫        名詞    形容動詞語幹    ダイジョーブ\n",
       "6        、        記号        読点         、\n",
       "7      すべて        名詞      副詞可能       スベテ\n",
       "8      うまく       形容詞        自立       ウマク\n",
       "9       いく        動詞        自立        イク\n",
       "10       さ        助詞       終助詞         サ\n",
       "11       。        記号        句点         。"
      ]
     },
     "metadata": {},
     "output_type": "display_data"
    }
   ],
   "source": [
    "mecab_df = pd.DataFrame()\n",
    "mecab_df['surface'] = surface_lst[1:len(surface_lst)-1]\n",
    "mecab_df['feature_0'] = feature_0_lst[1:len(feature_0_lst)-1]\n",
    "mecab_df['feature_1'] = feature_1_lst[1:len(feature_1_lst)-1]\n",
    "mecab_df['feature_8'] = feature_8_lst[1:len(feature_8_lst)-1]\n",
    "\n",
    "print(text)\n",
    "display(mecab_df)"
   ]
  },
  {
   "cell_type": "code",
   "execution_count": null,
   "metadata": {},
   "outputs": [],
   "source": []
  }
 ],
 "metadata": {
  "kernelspec": {
   "display_name": "Python 3",
   "language": "python",
   "name": "python3"
  },
  "language_info": {
   "codemirror_mode": {
    "name": "ipython",
    "version": 3
   },
   "file_extension": ".py",
   "mimetype": "text/x-python",
   "name": "python",
   "nbconvert_exporter": "python",
   "pygments_lexer": "ipython3",
   "version": "3.7.4"
  }
 },
 "nbformat": 4,
 "nbformat_minor": 2
}
