{
 "cells": [
  {
   "cell_type": "markdown",
   "metadata": {},
   "source": [
    "# Mecabを使って形態素解析で遊ぶ\n",
    "### ・文章を分解する"
   ]
  },
  {
   "cell_type": "code",
   "execution_count": 1,
   "metadata": {},
   "outputs": [
    {
     "data": {
      "text/plain": [
       "'\\nmecabが未インストールの場合は、コメントアウト外して実行\\n'"
      ]
     },
     "execution_count": 1,
     "metadata": {},
     "output_type": "execute_result"
    }
   ],
   "source": [
    "from IPython.display import display\n",
    "\n",
    "'''\n",
    "mecabが未インストールの場合は、コメントアウト外して実行\n",
    "'''\n",
    "#!brew install mecab\n",
    "#!brew install mecab-ipadic\n",
    "#!brew install swig\n",
    "#!brew install mecab-ipadic-NEologd\n",
    "#!pip3 install mecab-python3"
   ]
  },
  {
   "cell_type": "markdown",
   "metadata": {},
   "source": [
    "### Duo 日本語データ csvファイルをロード"
   ]
  },
  {
   "cell_type": "code",
   "execution_count": 2,
   "metadata": {},
   "outputs": [
    {
     "data": {
      "text/html": [
       "<div>\n",
       "<style scoped>\n",
       "    .dataframe tbody tr th:only-of-type {\n",
       "        vertical-align: middle;\n",
       "    }\n",
       "\n",
       "    .dataframe tbody tr th {\n",
       "        vertical-align: top;\n",
       "    }\n",
       "\n",
       "    .dataframe thead th {\n",
       "        text-align: right;\n",
       "    }\n",
       "</style>\n",
       "<table border=\"1\" class=\"dataframe\">\n",
       "  <thead>\n",
       "    <tr style=\"text-align: right;\">\n",
       "      <th></th>\n",
       "      <th>id</th>\n",
       "      <th>ja</th>\n",
       "    </tr>\n",
       "  </thead>\n",
       "  <tbody>\n",
       "    <tr>\n",
       "      <th>0</th>\n",
       "      <td>1</td>\n",
       "      <td>個人の意志は尊重しなければいけない。</td>\n",
       "    </tr>\n",
       "    <tr>\n",
       "      <th>1</th>\n",
       "      <td>2</td>\n",
       "      <td>気楽にいけよ。大丈夫、すべてうまくいくさ。</td>\n",
       "    </tr>\n",
       "    <tr>\n",
       "      <th>2</th>\n",
       "      <td>3</td>\n",
       "      <td>悲観的な人生観を捨てて、前向きな態度を常に持ち続けよう。</td>\n",
       "    </tr>\n",
       "  </tbody>\n",
       "</table>\n",
       "</div>"
      ],
      "text/plain": [
       "  id                            ja\n",
       "0  1            個人の意志は尊重しなければいけない。\n",
       "1  2         気楽にいけよ。大丈夫、すべてうまくいくさ。\n",
       "2  3  悲観的な人生観を捨てて、前向きな態度を常に持ち続けよう。"
      ]
     },
     "metadata": {},
     "output_type": "display_data"
    }
   ],
   "source": [
    "import pandas as pd\n",
    "\n",
    "ja_df = pd.read_csv('../data/duo_3-0_ja.csv', dtype='object')\n",
    "display(ja_df.head(3))"
   ]
  },
  {
   "cell_type": "markdown",
   "metadata": {},
   "source": [
    "### MeCabをインポートして呼び出し"
   ]
  },
  {
   "cell_type": "code",
   "execution_count": 3,
   "metadata": {},
   "outputs": [],
   "source": [
    "import MeCab\n",
    "\n",
    "trigger_path = !echo `mecab-config --dicdir`\"/mecab-ipadic-neologd\"\n",
    "mecab = MeCab.Tagger ('-d {}'.format(trigger_path[0]))"
   ]
  },
  {
   "cell_type": "markdown",
   "metadata": {},
   "source": [
    "### 形態素解析実行\n",
    "##### ・DUO_JA_ID に、解析したい文章IDをセット"
   ]
  },
  {
   "cell_type": "code",
   "execution_count": 4,
   "metadata": {},
   "outputs": [
    {
     "name": "stdout",
     "output_type": "stream",
     "text": [
      "['BOS/EOS', '*', '*', '*', '*', '*', '*', '*', '*']\n",
      "['名詞', '代名詞', '一般', '*', '*', '*', 'これら', 'コレラ', 'コレラ']\n",
      "['助詞', '連体化', '*', '*', '*', '*', 'の', 'ノ', 'ノ']\n",
      "['名詞', '一般', '*', '*', '*', '*', '小包', 'コヅツミ', 'コズツミ']\n",
      "['助詞', '連体化', '*', '*', '*', '*', 'の', 'ノ', 'ノ']\n",
      "['名詞', '固有名詞', '一般', '*', '*', '*', '重さ', 'オモサ', 'オモサ']\n",
      "['助詞', '係助詞', '*', '*', '*', '*', 'は', 'ハ', 'ワ']\n",
      "['名詞', 'サ変接続', '*', '*', '*', '*', '平均', 'ヘイキン', 'ヘイキン']\n",
      "['動詞', '自立', '*', '*', 'サ変・スル', '基本形', 'する', 'スル', 'スル']\n",
      "['助詞', '接続助詞', '*', '*', '*', '*', 'と', 'ト', 'ト']\n",
      "['名詞', '数', '*', '*', '*', '*', '*']\n",
      "['名詞', '接尾', '助数詞', '*', '*', '*', 'ポンド', 'ポンド', 'ポンド']\n",
      "['助動詞', '*', '*', '*', '特殊・デス', '基本形', 'です', 'デス', 'デス']\n",
      "['記号', '句点', '*', '*', '*', '*', '。', '。', '。']\n",
      "['BOS/EOS', '*', '*', '*', '*', '*', '*', '*', '*']\n"
     ]
    }
   ],
   "source": [
    "DUO_JA_ID = 300\n",
    "\n",
    "text = ja_df['ja'].values[DUO_JA_ID]\n",
    "mecab.parse('')\n",
    "node = mecab.parseToNode(text)\n",
    "\n",
    "surface_lst, feature_0_lst, feature_1_lst, feature_8_lst = [], [], [], []\n",
    "while node:\n",
    "    surface_lst.append(node.surface)\n",
    "    feature_0_lst.append(node.feature.split(\",\")[0])\n",
    "    feature_1_lst.append(node.feature.split(\",\")[1])\n",
    "    if len(node.feature.split(\",\")) > 8:\n",
    "        feature_8_lst.append(node.feature.split(\",\")[8])\n",
    "    else:\n",
    "        feature_8_lst.append('')\n",
    "    print(node.feature.split(','))\n",
    "    node = node.next"
   ]
  },
  {
   "cell_type": "markdown",
   "metadata": {},
   "source": [
    "### 解析結果を一覧表示"
   ]
  },
  {
   "cell_type": "code",
   "execution_count": 5,
   "metadata": {},
   "outputs": [
    {
     "name": "stdout",
     "output_type": "stream",
     "text": [
      "これらの小包の重さは平均すると2ポンドです。\n"
     ]
    },
    {
     "data": {
      "text/html": [
       "<div>\n",
       "<style scoped>\n",
       "    .dataframe tbody tr th:only-of-type {\n",
       "        vertical-align: middle;\n",
       "    }\n",
       "\n",
       "    .dataframe tbody tr th {\n",
       "        vertical-align: top;\n",
       "    }\n",
       "\n",
       "    .dataframe thead th {\n",
       "        text-align: right;\n",
       "    }\n",
       "</style>\n",
       "<table border=\"1\" class=\"dataframe\">\n",
       "  <thead>\n",
       "    <tr style=\"text-align: right;\">\n",
       "      <th></th>\n",
       "      <th>surface</th>\n",
       "      <th>feature_0</th>\n",
       "      <th>feature_1</th>\n",
       "      <th>feature_8</th>\n",
       "    </tr>\n",
       "  </thead>\n",
       "  <tbody>\n",
       "    <tr>\n",
       "      <th>0</th>\n",
       "      <td>これら</td>\n",
       "      <td>名詞</td>\n",
       "      <td>代名詞</td>\n",
       "      <td>コレラ</td>\n",
       "    </tr>\n",
       "    <tr>\n",
       "      <th>1</th>\n",
       "      <td>の</td>\n",
       "      <td>助詞</td>\n",
       "      <td>連体化</td>\n",
       "      <td>ノ</td>\n",
       "    </tr>\n",
       "    <tr>\n",
       "      <th>2</th>\n",
       "      <td>小包</td>\n",
       "      <td>名詞</td>\n",
       "      <td>一般</td>\n",
       "      <td>コズツミ</td>\n",
       "    </tr>\n",
       "    <tr>\n",
       "      <th>3</th>\n",
       "      <td>の</td>\n",
       "      <td>助詞</td>\n",
       "      <td>連体化</td>\n",
       "      <td>ノ</td>\n",
       "    </tr>\n",
       "    <tr>\n",
       "      <th>4</th>\n",
       "      <td>重さ</td>\n",
       "      <td>名詞</td>\n",
       "      <td>固有名詞</td>\n",
       "      <td>オモサ</td>\n",
       "    </tr>\n",
       "    <tr>\n",
       "      <th>5</th>\n",
       "      <td>は</td>\n",
       "      <td>助詞</td>\n",
       "      <td>係助詞</td>\n",
       "      <td>ワ</td>\n",
       "    </tr>\n",
       "    <tr>\n",
       "      <th>6</th>\n",
       "      <td>平均</td>\n",
       "      <td>名詞</td>\n",
       "      <td>サ変接続</td>\n",
       "      <td>ヘイキン</td>\n",
       "    </tr>\n",
       "    <tr>\n",
       "      <th>7</th>\n",
       "      <td>する</td>\n",
       "      <td>動詞</td>\n",
       "      <td>自立</td>\n",
       "      <td>スル</td>\n",
       "    </tr>\n",
       "    <tr>\n",
       "      <th>8</th>\n",
       "      <td>と</td>\n",
       "      <td>助詞</td>\n",
       "      <td>接続助詞</td>\n",
       "      <td>ト</td>\n",
       "    </tr>\n",
       "    <tr>\n",
       "      <th>9</th>\n",
       "      <td>2</td>\n",
       "      <td>名詞</td>\n",
       "      <td>数</td>\n",
       "      <td></td>\n",
       "    </tr>\n",
       "    <tr>\n",
       "      <th>10</th>\n",
       "      <td>ポンド</td>\n",
       "      <td>名詞</td>\n",
       "      <td>接尾</td>\n",
       "      <td>ポンド</td>\n",
       "    </tr>\n",
       "    <tr>\n",
       "      <th>11</th>\n",
       "      <td>です</td>\n",
       "      <td>助動詞</td>\n",
       "      <td>*</td>\n",
       "      <td>デス</td>\n",
       "    </tr>\n",
       "    <tr>\n",
       "      <th>12</th>\n",
       "      <td>。</td>\n",
       "      <td>記号</td>\n",
       "      <td>句点</td>\n",
       "      <td>。</td>\n",
       "    </tr>\n",
       "  </tbody>\n",
       "</table>\n",
       "</div>"
      ],
      "text/plain": [
       "   surface feature_0 feature_1 feature_8\n",
       "0      これら        名詞       代名詞       コレラ\n",
       "1        の        助詞       連体化         ノ\n",
       "2       小包        名詞        一般      コズツミ\n",
       "3        の        助詞       連体化         ノ\n",
       "4       重さ        名詞      固有名詞       オモサ\n",
       "5        は        助詞       係助詞         ワ\n",
       "6       平均        名詞      サ変接続      ヘイキン\n",
       "7       する        動詞        自立        スル\n",
       "8        と        助詞      接続助詞         ト\n",
       "9        2        名詞         数          \n",
       "10     ポンド        名詞        接尾       ポンド\n",
       "11      です       助動詞         *        デス\n",
       "12       。        記号        句点         。"
      ]
     },
     "metadata": {},
     "output_type": "display_data"
    }
   ],
   "source": [
    "mecab_df = pd.DataFrame()\n",
    "mecab_df['surface'] = surface_lst[1:len(surface_lst)-1]\n",
    "mecab_df['feature_0'] = feature_0_lst[1:len(feature_0_lst)-1]\n",
    "mecab_df['feature_1'] = feature_1_lst[1:len(feature_1_lst)-1]\n",
    "mecab_df['feature_8'] = feature_8_lst[1:len(feature_8_lst)-1]\n",
    "\n",
    "print(text)\n",
    "display(mecab_df)"
   ]
  },
  {
   "cell_type": "code",
   "execution_count": null,
   "metadata": {},
   "outputs": [],
   "source": []
  },
  {
   "cell_type": "code",
   "execution_count": null,
   "metadata": {},
   "outputs": [],
   "source": []
  },
  {
   "cell_type": "code",
   "execution_count": null,
   "metadata": {},
   "outputs": [],
   "source": []
  }
 ],
 "metadata": {
  "kernelspec": {
   "display_name": "Python 3",
   "language": "python",
   "name": "python3"
  },
  "language_info": {
   "codemirror_mode": {
    "name": "ipython",
    "version": 3
   },
   "file_extension": ".py",
   "mimetype": "text/x-python",
   "name": "python",
   "nbconvert_exporter": "python",
   "pygments_lexer": "ipython3",
   "version": "3.7.4"
  }
 },
 "nbformat": 4,
 "nbformat_minor": 2
}
